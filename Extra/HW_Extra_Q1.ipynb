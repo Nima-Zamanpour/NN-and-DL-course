{
  "nbformat": 4,
  "nbformat_minor": 0,
  "metadata": {
    "colab": {
      "provenance": [],
      "gpuType": "T4"
    },
    "kernelspec": {
      "name": "python3",
      "display_name": "Python 3"
    },
    "language_info": {
      "name": "python"
    },
    "accelerator": "GPU"
  },
  "cells": [
    {
      "cell_type": "code",
      "execution_count": null,
      "metadata": {
        "colab": {
          "base_uri": "https://localhost:8080/"
        },
        "id": "paio9Vu-wXL8",
        "outputId": "dfa15dd7-d175-4cce-9692-c812c66519f4"
      },
      "outputs": [
        {
          "output_type": "stream",
          "name": "stdout",
          "text": [
            "Mounted at /content/drive\n"
          ]
        }
      ],
      "source": [
        "import pandas as pd\n",
        "from sklearn.preprocessing import MinMaxScaler\n",
        "litecoin_train=pd.read_csv('Litecoin_train.csv')\n",
        "monero_train=pd.read_csv('Monero_train.csv')\n",
        "litecoin_test=pd.read_csv('Litecoin_test.csv')\n",
        "monero_test=pd.read_csv('Monero_test.csv')\n",
        "from google.colab import drive\n",
        "drive.mount('/content/drive')"
      ]
    },
    {
      "cell_type": "code",
      "source": [
        "litecoin_train.head()"
      ],
      "metadata": {
        "colab": {
          "base_uri": "https://localhost:8080/",
          "height": 206
        },
        "id": "25-rBb35ynXw",
        "outputId": "dedaf506-c0de-4caa-fd90-56136673e071"
      },
      "execution_count": null,
      "outputs": [
        {
          "output_type": "execute_result",
          "data": {
            "text/plain": [
              "           Date   Price    Open    High     Low    Vol. Change %\n",
              "0  Feb 22, 2020  74.818  73.288  76.642  72.422  11.56M    2.08%\n",
              "1  Feb 21, 2020  73.291  69.455  75.161  68.633  12.13M    5.52%\n",
              "2  Feb 20, 2020  69.455  70.782  72.339  66.495  12.45M   -1.87%\n",
              "3  Feb 19, 2020  70.782  77.173  79.041  68.264  12.10M   -8.28%\n",
              "4  Feb 18, 2020  77.173  73.357  78.911  70.217  10.64M    5.22%"
            ],
            "text/html": [
              "\n",
              "  <div id=\"df-59f8b507-56ba-4585-a220-58efc463a9cc\">\n",
              "    <div class=\"colab-df-container\">\n",
              "      <div>\n",
              "<style scoped>\n",
              "    .dataframe tbody tr th:only-of-type {\n",
              "        vertical-align: middle;\n",
              "    }\n",
              "\n",
              "    .dataframe tbody tr th {\n",
              "        vertical-align: top;\n",
              "    }\n",
              "\n",
              "    .dataframe thead th {\n",
              "        text-align: right;\n",
              "    }\n",
              "</style>\n",
              "<table border=\"1\" class=\"dataframe\">\n",
              "  <thead>\n",
              "    <tr style=\"text-align: right;\">\n",
              "      <th></th>\n",
              "      <th>Date</th>\n",
              "      <th>Price</th>\n",
              "      <th>Open</th>\n",
              "      <th>High</th>\n",
              "      <th>Low</th>\n",
              "      <th>Vol.</th>\n",
              "      <th>Change %</th>\n",
              "    </tr>\n",
              "  </thead>\n",
              "  <tbody>\n",
              "    <tr>\n",
              "      <th>0</th>\n",
              "      <td>Feb 22, 2020</td>\n",
              "      <td>74.818</td>\n",
              "      <td>73.288</td>\n",
              "      <td>76.642</td>\n",
              "      <td>72.422</td>\n",
              "      <td>11.56M</td>\n",
              "      <td>2.08%</td>\n",
              "    </tr>\n",
              "    <tr>\n",
              "      <th>1</th>\n",
              "      <td>Feb 21, 2020</td>\n",
              "      <td>73.291</td>\n",
              "      <td>69.455</td>\n",
              "      <td>75.161</td>\n",
              "      <td>68.633</td>\n",
              "      <td>12.13M</td>\n",
              "      <td>5.52%</td>\n",
              "    </tr>\n",
              "    <tr>\n",
              "      <th>2</th>\n",
              "      <td>Feb 20, 2020</td>\n",
              "      <td>69.455</td>\n",
              "      <td>70.782</td>\n",
              "      <td>72.339</td>\n",
              "      <td>66.495</td>\n",
              "      <td>12.45M</td>\n",
              "      <td>-1.87%</td>\n",
              "    </tr>\n",
              "    <tr>\n",
              "      <th>3</th>\n",
              "      <td>Feb 19, 2020</td>\n",
              "      <td>70.782</td>\n",
              "      <td>77.173</td>\n",
              "      <td>79.041</td>\n",
              "      <td>68.264</td>\n",
              "      <td>12.10M</td>\n",
              "      <td>-8.28%</td>\n",
              "    </tr>\n",
              "    <tr>\n",
              "      <th>4</th>\n",
              "      <td>Feb 18, 2020</td>\n",
              "      <td>77.173</td>\n",
              "      <td>73.357</td>\n",
              "      <td>78.911</td>\n",
              "      <td>70.217</td>\n",
              "      <td>10.64M</td>\n",
              "      <td>5.22%</td>\n",
              "    </tr>\n",
              "  </tbody>\n",
              "</table>\n",
              "</div>\n",
              "      <button class=\"colab-df-convert\" onclick=\"convertToInteractive('df-59f8b507-56ba-4585-a220-58efc463a9cc')\"\n",
              "              title=\"Convert this dataframe to an interactive table.\"\n",
              "              style=\"display:none;\">\n",
              "        \n",
              "  <svg xmlns=\"http://www.w3.org/2000/svg\" height=\"24px\"viewBox=\"0 0 24 24\"\n",
              "       width=\"24px\">\n",
              "    <path d=\"M0 0h24v24H0V0z\" fill=\"none\"/>\n",
              "    <path d=\"M18.56 5.44l.94 2.06.94-2.06 2.06-.94-2.06-.94-.94-2.06-.94 2.06-2.06.94zm-11 1L8.5 8.5l.94-2.06 2.06-.94-2.06-.94L8.5 2.5l-.94 2.06-2.06.94zm10 10l.94 2.06.94-2.06 2.06-.94-2.06-.94-.94-2.06-.94 2.06-2.06.94z\"/><path d=\"M17.41 7.96l-1.37-1.37c-.4-.4-.92-.59-1.43-.59-.52 0-1.04.2-1.43.59L10.3 9.45l-7.72 7.72c-.78.78-.78 2.05 0 2.83L4 21.41c.39.39.9.59 1.41.59.51 0 1.02-.2 1.41-.59l7.78-7.78 2.81-2.81c.8-.78.8-2.07 0-2.86zM5.41 20L4 18.59l7.72-7.72 1.47 1.35L5.41 20z\"/>\n",
              "  </svg>\n",
              "      </button>\n",
              "      \n",
              "  <style>\n",
              "    .colab-df-container {\n",
              "      display:flex;\n",
              "      flex-wrap:wrap;\n",
              "      gap: 12px;\n",
              "    }\n",
              "\n",
              "    .colab-df-convert {\n",
              "      background-color: #E8F0FE;\n",
              "      border: none;\n",
              "      border-radius: 50%;\n",
              "      cursor: pointer;\n",
              "      display: none;\n",
              "      fill: #1967D2;\n",
              "      height: 32px;\n",
              "      padding: 0 0 0 0;\n",
              "      width: 32px;\n",
              "    }\n",
              "\n",
              "    .colab-df-convert:hover {\n",
              "      background-color: #E2EBFA;\n",
              "      box-shadow: 0px 1px 2px rgba(60, 64, 67, 0.3), 0px 1px 3px 1px rgba(60, 64, 67, 0.15);\n",
              "      fill: #174EA6;\n",
              "    }\n",
              "\n",
              "    [theme=dark] .colab-df-convert {\n",
              "      background-color: #3B4455;\n",
              "      fill: #D2E3FC;\n",
              "    }\n",
              "\n",
              "    [theme=dark] .colab-df-convert:hover {\n",
              "      background-color: #434B5C;\n",
              "      box-shadow: 0px 1px 3px 1px rgba(0, 0, 0, 0.15);\n",
              "      filter: drop-shadow(0px 1px 2px rgba(0, 0, 0, 0.3));\n",
              "      fill: #FFFFFF;\n",
              "    }\n",
              "  </style>\n",
              "\n",
              "      <script>\n",
              "        const buttonEl =\n",
              "          document.querySelector('#df-59f8b507-56ba-4585-a220-58efc463a9cc button.colab-df-convert');\n",
              "        buttonEl.style.display =\n",
              "          google.colab.kernel.accessAllowed ? 'block' : 'none';\n",
              "\n",
              "        async function convertToInteractive(key) {\n",
              "          const element = document.querySelector('#df-59f8b507-56ba-4585-a220-58efc463a9cc');\n",
              "          const dataTable =\n",
              "            await google.colab.kernel.invokeFunction('convertToInteractive',\n",
              "                                                     [key], {});\n",
              "          if (!dataTable) return;\n",
              "\n",
              "          const docLinkHtml = 'Like what you see? Visit the ' +\n",
              "            '<a target=\"_blank\" href=https://colab.research.google.com/notebooks/data_table.ipynb>data table notebook</a>'\n",
              "            + ' to learn more about interactive tables.';\n",
              "          element.innerHTML = '';\n",
              "          dataTable['output_type'] = 'display_data';\n",
              "          await google.colab.output.renderOutput(dataTable, element);\n",
              "          const docLink = document.createElement('div');\n",
              "          docLink.innerHTML = docLinkHtml;\n",
              "          element.appendChild(docLink);\n",
              "        }\n",
              "      </script>\n",
              "    </div>\n",
              "  </div>\n",
              "  "
            ]
          },
          "metadata": {},
          "execution_count": 25
        }
      ]
    },
    {
      "cell_type": "code",
      "source": [
        "litecoin_train=litecoin_train.iloc[::-1].reset_index(drop=True)"
      ],
      "metadata": {
        "id": "HtbVtC8nMn-A"
      },
      "execution_count": null,
      "outputs": []
    },
    {
      "cell_type": "code",
      "source": [
        "litecoin_train.head()"
      ],
      "metadata": {
        "colab": {
          "base_uri": "https://localhost:8080/",
          "height": 206
        },
        "id": "EgfbPC0YNM03",
        "outputId": "1cc4c362-735a-4636-b27b-c4618fb40fe4"
      },
      "execution_count": null,
      "outputs": [
        {
          "output_type": "execute_result",
          "data": {
            "text/plain": [
              "           Date  Price  Open  High   Low    Vol. Change %\n",
              "0  Aug 24, 2016   3.84  3.95  3.96  3.61  21.86K   -2.78%\n",
              "1  Aug 25, 2016   3.81  3.84  3.88  3.75  21.87K   -0.78%\n",
              "2  Aug 26, 2016   3.81  3.81  3.90  3.77  14.35K    0.00%\n",
              "3  Aug 27, 2016   3.78  3.81  3.85  3.62   4.91K   -0.79%\n",
              "4  Aug 28, 2016   3.72  3.78  3.78  3.62   8.19K   -1.59%"
            ],
            "text/html": [
              "\n",
              "  <div id=\"df-439eeec9-75dc-4b15-8c63-c1795500e2a2\">\n",
              "    <div class=\"colab-df-container\">\n",
              "      <div>\n",
              "<style scoped>\n",
              "    .dataframe tbody tr th:only-of-type {\n",
              "        vertical-align: middle;\n",
              "    }\n",
              "\n",
              "    .dataframe tbody tr th {\n",
              "        vertical-align: top;\n",
              "    }\n",
              "\n",
              "    .dataframe thead th {\n",
              "        text-align: right;\n",
              "    }\n",
              "</style>\n",
              "<table border=\"1\" class=\"dataframe\">\n",
              "  <thead>\n",
              "    <tr style=\"text-align: right;\">\n",
              "      <th></th>\n",
              "      <th>Date</th>\n",
              "      <th>Price</th>\n",
              "      <th>Open</th>\n",
              "      <th>High</th>\n",
              "      <th>Low</th>\n",
              "      <th>Vol.</th>\n",
              "      <th>Change %</th>\n",
              "    </tr>\n",
              "  </thead>\n",
              "  <tbody>\n",
              "    <tr>\n",
              "      <th>0</th>\n",
              "      <td>Aug 24, 2016</td>\n",
              "      <td>3.84</td>\n",
              "      <td>3.95</td>\n",
              "      <td>3.96</td>\n",
              "      <td>3.61</td>\n",
              "      <td>21.86K</td>\n",
              "      <td>-2.78%</td>\n",
              "    </tr>\n",
              "    <tr>\n",
              "      <th>1</th>\n",
              "      <td>Aug 25, 2016</td>\n",
              "      <td>3.81</td>\n",
              "      <td>3.84</td>\n",
              "      <td>3.88</td>\n",
              "      <td>3.75</td>\n",
              "      <td>21.87K</td>\n",
              "      <td>-0.78%</td>\n",
              "    </tr>\n",
              "    <tr>\n",
              "      <th>2</th>\n",
              "      <td>Aug 26, 2016</td>\n",
              "      <td>3.81</td>\n",
              "      <td>3.81</td>\n",
              "      <td>3.90</td>\n",
              "      <td>3.77</td>\n",
              "      <td>14.35K</td>\n",
              "      <td>0.00%</td>\n",
              "    </tr>\n",
              "    <tr>\n",
              "      <th>3</th>\n",
              "      <td>Aug 27, 2016</td>\n",
              "      <td>3.78</td>\n",
              "      <td>3.81</td>\n",
              "      <td>3.85</td>\n",
              "      <td>3.62</td>\n",
              "      <td>4.91K</td>\n",
              "      <td>-0.79%</td>\n",
              "    </tr>\n",
              "    <tr>\n",
              "      <th>4</th>\n",
              "      <td>Aug 28, 2016</td>\n",
              "      <td>3.72</td>\n",
              "      <td>3.78</td>\n",
              "      <td>3.78</td>\n",
              "      <td>3.62</td>\n",
              "      <td>8.19K</td>\n",
              "      <td>-1.59%</td>\n",
              "    </tr>\n",
              "  </tbody>\n",
              "</table>\n",
              "</div>\n",
              "      <button class=\"colab-df-convert\" onclick=\"convertToInteractive('df-439eeec9-75dc-4b15-8c63-c1795500e2a2')\"\n",
              "              title=\"Convert this dataframe to an interactive table.\"\n",
              "              style=\"display:none;\">\n",
              "        \n",
              "  <svg xmlns=\"http://www.w3.org/2000/svg\" height=\"24px\"viewBox=\"0 0 24 24\"\n",
              "       width=\"24px\">\n",
              "    <path d=\"M0 0h24v24H0V0z\" fill=\"none\"/>\n",
              "    <path d=\"M18.56 5.44l.94 2.06.94-2.06 2.06-.94-2.06-.94-.94-2.06-.94 2.06-2.06.94zm-11 1L8.5 8.5l.94-2.06 2.06-.94-2.06-.94L8.5 2.5l-.94 2.06-2.06.94zm10 10l.94 2.06.94-2.06 2.06-.94-2.06-.94-.94-2.06-.94 2.06-2.06.94z\"/><path d=\"M17.41 7.96l-1.37-1.37c-.4-.4-.92-.59-1.43-.59-.52 0-1.04.2-1.43.59L10.3 9.45l-7.72 7.72c-.78.78-.78 2.05 0 2.83L4 21.41c.39.39.9.59 1.41.59.51 0 1.02-.2 1.41-.59l7.78-7.78 2.81-2.81c.8-.78.8-2.07 0-2.86zM5.41 20L4 18.59l7.72-7.72 1.47 1.35L5.41 20z\"/>\n",
              "  </svg>\n",
              "      </button>\n",
              "      \n",
              "  <style>\n",
              "    .colab-df-container {\n",
              "      display:flex;\n",
              "      flex-wrap:wrap;\n",
              "      gap: 12px;\n",
              "    }\n",
              "\n",
              "    .colab-df-convert {\n",
              "      background-color: #E8F0FE;\n",
              "      border: none;\n",
              "      border-radius: 50%;\n",
              "      cursor: pointer;\n",
              "      display: none;\n",
              "      fill: #1967D2;\n",
              "      height: 32px;\n",
              "      padding: 0 0 0 0;\n",
              "      width: 32px;\n",
              "    }\n",
              "\n",
              "    .colab-df-convert:hover {\n",
              "      background-color: #E2EBFA;\n",
              "      box-shadow: 0px 1px 2px rgba(60, 64, 67, 0.3), 0px 1px 3px 1px rgba(60, 64, 67, 0.15);\n",
              "      fill: #174EA6;\n",
              "    }\n",
              "\n",
              "    [theme=dark] .colab-df-convert {\n",
              "      background-color: #3B4455;\n",
              "      fill: #D2E3FC;\n",
              "    }\n",
              "\n",
              "    [theme=dark] .colab-df-convert:hover {\n",
              "      background-color: #434B5C;\n",
              "      box-shadow: 0px 1px 3px 1px rgba(0, 0, 0, 0.15);\n",
              "      filter: drop-shadow(0px 1px 2px rgba(0, 0, 0, 0.3));\n",
              "      fill: #FFFFFF;\n",
              "    }\n",
              "  </style>\n",
              "\n",
              "      <script>\n",
              "        const buttonEl =\n",
              "          document.querySelector('#df-439eeec9-75dc-4b15-8c63-c1795500e2a2 button.colab-df-convert');\n",
              "        buttonEl.style.display =\n",
              "          google.colab.kernel.accessAllowed ? 'block' : 'none';\n",
              "\n",
              "        async function convertToInteractive(key) {\n",
              "          const element = document.querySelector('#df-439eeec9-75dc-4b15-8c63-c1795500e2a2');\n",
              "          const dataTable =\n",
              "            await google.colab.kernel.invokeFunction('convertToInteractive',\n",
              "                                                     [key], {});\n",
              "          if (!dataTable) return;\n",
              "\n",
              "          const docLinkHtml = 'Like what you see? Visit the ' +\n",
              "            '<a target=\"_blank\" href=https://colab.research.google.com/notebooks/data_table.ipynb>data table notebook</a>'\n",
              "            + ' to learn more about interactive tables.';\n",
              "          element.innerHTML = '';\n",
              "          dataTable['output_type'] = 'display_data';\n",
              "          await google.colab.output.renderOutput(dataTable, element);\n",
              "          const docLink = document.createElement('div');\n",
              "          docLink.innerHTML = docLinkHtml;\n",
              "          element.appendChild(docLink);\n",
              "        }\n",
              "      </script>\n",
              "    </div>\n",
              "  </div>\n",
              "  "
            ]
          },
          "metadata": {},
          "execution_count": 27
        }
      ]
    },
    {
      "cell_type": "code",
      "source": [
        "litecoin_test=litecoin_test.iloc[::-1].reset_index(drop=True)\n",
        "monero_train=monero_train.iloc[::-1].reset_index(drop=True)\n",
        "monero_test=monero_test.iloc[::-1].reset_index(drop=True)"
      ],
      "metadata": {
        "id": "-txmCuJAN_8f"
      },
      "execution_count": null,
      "outputs": []
    },
    {
      "cell_type": "markdown",
      "source": [
        "#Data Preprocessing"
      ],
      "metadata": {
        "id": "v3OYyt82zACN"
      }
    },
    {
      "cell_type": "code",
      "source": [
        "def preprocess(monero):\n",
        "  #find closing price\n",
        "  monero['change']=monero['Change %'].str.replace('%','')\n",
        "  monero=monero.astype({'change':'float'})\n",
        "  monero['Close']=monero['Open']*(1+monero['change']/100)\n",
        "  #replace - with 0 and change volume to int\n",
        "  monero['Vol.']=monero['Vol.'].replace('-',0)\n",
        "  monero['Vol.']= (monero['Vol.'].replace(r'[KM]+$', '', regex=True).astype(float) * \\\n",
        "          monero['Vol.'].str.extract(r'[\\d\\.]+([KM]+)', expand=False)\n",
        "            .fillna(1)\n",
        "            .replace(['K','M'], [10**3, 10**6]).astype(int))\n",
        "  monero['Vol.']=monero['Vol.'].replace('-',0)\n",
        "  monero['Vol.']=monero['Vol.'].astype(int)\n",
        "  #just save feature columns\n",
        "  cols = ['Price','Open','High','Low','Vol.','Close']\n",
        "  monero=monero[cols]\n",
        "  #normalize\n",
        "  mmscaler = MinMaxScaler(feature_range=(0,1))\n",
        "  monero = pd.DataFrame(mmscaler.fit_transform(monero), columns=monero.columns)\n",
        "  return monero,mmscaler"
      ],
      "metadata": {
        "id": "aFQUaQ2A5kMZ"
      },
      "execution_count": null,
      "outputs": []
    },
    {
      "cell_type": "code",
      "source": [
        "litecoin_train=preprocess(litecoin_train)[0]\n",
        "monero_train=preprocess(monero_train)[0]\n",
        "litecoin_test,litecoin_scaler=preprocess(litecoin_test)\n",
        "monero_test,monero_scaler=preprocess(monero_test)"
      ],
      "metadata": {
        "id": "3wDkK3xC_pd_"
      },
      "execution_count": null,
      "outputs": []
    },
    {
      "cell_type": "markdown",
      "source": [
        "#create train dataset"
      ],
      "metadata": {
        "id": "WHugTGbWWCoU"
      }
    },
    {
      "cell_type": "code",
      "source": [
        "import numpy as np\n",
        "def create_nextday_dataset(data,lag=30):\n",
        "  k=len(data)-lag\n",
        "  x=[]\n",
        "  y=[]\n",
        "  for i in range(k):\n",
        "    x.append(data[i:i+lag])\n",
        "    y.append(data.iloc[i+lag])\n",
        "  x=np.array(x)\n",
        "  y=np.array(y)\n",
        "  return x,y"
      ],
      "metadata": {
        "id": "YEJ9J5GdWIJv"
      },
      "execution_count": null,
      "outputs": []
    },
    {
      "cell_type": "code",
      "source": [
        "from sklearn.model_selection import train_test_split\n",
        "monero_x,monero_y=create_nextday_dataset(monero_train)\n",
        "litecoin_x,litecoin_y=create_nextday_dataset(litecoin_train)\n",
        "# x_train_monero, x_val_monero, y_train_monero,y_val_monero = train_test_split(monero_x,monero_y, test_size=0.1)\n",
        "# x_train_litecoin, x_val_litecoin, y_train_litecoin,y_val_litecoin = train_test_split(litecoin_x,litecoin_y, test_size=0.1)\n"
      ],
      "metadata": {
        "id": "uisoEQ_mWjFQ"
      },
      "execution_count": null,
      "outputs": []
    },
    {
      "cell_type": "markdown",
      "source": [
        "#Structure"
      ],
      "metadata": {
        "id": "jkby9y2RyL9e"
      }
    },
    {
      "cell_type": "code",
      "source": [
        "import tensorflow as tf\n",
        "from tensorflow.keras.models import Sequential\n",
        "from keras.layers import Dense,Dropout,LSTM,GRU,Concatenate,Input\n",
        "from tensorflow.keras.optimizers import Adam\n",
        "from tensorflow.keras.callbacks import ModelCheckpoint,EarlyStopping\n",
        "from tensorflow.keras.activations import relu\n",
        "#from tensorflow.keras.metrics import MeanAbsoluteError,MeanSquaredError,MeanAbsolutePercentageError,RootMeanSquaredError"
      ],
      "metadata": {
        "id": "C8CErznwA8B5"
      },
      "execution_count": null,
      "outputs": []
    },
    {
      "cell_type": "code",
      "source": [
        "import keras.backend as K\n",
        "def MSE_price(y_true, y_pred):\n",
        "    loss = K.mean(K.square(y_true[:, 0] - y_pred[:, 0]))\n",
        "    return loss\n",
        "def RMSE_price(y_true, y_pred):\n",
        "    loss = K.sqrt(K.mean(K.square(y_true[:, 0] - y_pred[:, 0])))\n",
        "    return loss\n",
        "def MAE_price(y_true, y_pred):\n",
        "    loss = K.mean(K.abs(y_true[:, 0] - y_pred[:, 0]))\n",
        "    return loss\n",
        "def MAPE_price(y_true, y_pred):\n",
        "    loss = 100*K.mean(K.abs((y_true[:, 0] - y_pred[:, 0]) / K.clip(K.abs(y_true[:, 0]), K.epsilon(), None)))\n",
        "    return loss\n",
        "def scheduler(epoch, lr):\n",
        "  if epoch==50:\n",
        "    return 0.1*lr\n",
        "  else:\n",
        "    return lr\n"
      ],
      "metadata": {
        "id": "RZTQpbmHfrzU"
      },
      "execution_count": null,
      "outputs": []
    },
    {
      "cell_type": "code",
      "source": [
        "  LSTM_Part=Sequential()\n",
        "  LSTM_Part.add(LSTM(30,return_sequences=True,input_shape=(30,6)))\n",
        "  LSTM_Part.add(Dropout(0.3))\n",
        "  LSTM_Part.add(LSTM(50))\n",
        "  LSTM_Part.add(Dense(50,activation=relu))\n",
        "  GRU_part=Sequential()\n",
        "  GRU_part.add(GRU(30))\n",
        "  GRU_part.add(Dropout(0.3))\n",
        "  GRU_part.add(Dense(30,activation=relu))\n",
        "  x=Input((30,6))\n",
        "  y=Concatenate()([LSTM_Part(x),GRU_part(x)])\n",
        "  z=Dense(6,activation=relu)(y)\n",
        "  full_hybrid=tf.keras.Model(inputs=x,outputs=z)\n",
        "  full_hybrid.compile(optimizer=Adam(learning_rate=0.001),loss=MSE_price,metrics=[MAE_price,MAPE_price,RMSE_price])"
      ],
      "metadata": {
        "id": "kmWAdBPV0y7x"
      },
      "execution_count": null,
      "outputs": []
    },
    {
      "cell_type": "markdown",
      "source": [
        "#Monero proposed model train and results"
      ],
      "metadata": {
        "id": "i_rw9jcLAey-"
      }
    },
    {
      "cell_type": "code",
      "source": [
        "#earlystopping= EarlyStopping(monitor='val_loss', patience=10, verbose=0, mode='min')\n",
        "lr_schedule=tf.keras.callbacks.LearningRateScheduler(scheduler)                                                                                            \n",
        "monero_cp = ModelCheckpoint('drive/MyDrive/monero.hdf5', monitor='MAPE_price', mode='min',save_best_only=True)\n",
        "monero_hist=full_hybrid.fit(monero_x,monero_y,batch_size=32,epochs=100,callbacks=[monero_cp,lr_schedule])\n",
        "                            #,validation_data=(x_val_monero,y_val_monero))"
      ],
      "metadata": {
        "colab": {
          "base_uri": "https://localhost:8080/"
        },
        "id": "prLl5ZpMr3vR",
        "outputId": "740cffe3-e41a-4f6f-c403-7e92f7e663f4"
      },
      "execution_count": null,
      "outputs": [
        {
          "output_type": "stream",
          "name": "stdout",
          "text": [
            "Epoch 1/100\n",
            "57/57 [==============================] - 9s 30ms/step - loss: 0.0184 - MAE_price: 0.0763 - MAPE_price: 990.6318 - RMSE_price: 0.1214 - lr: 1.0000e-04\n",
            "Epoch 2/100\n",
            "57/57 [==============================] - 5s 87ms/step - loss: 0.0037 - MAE_price: 0.0390 - MAPE_price: 690.4861 - RMSE_price: 0.0584 - lr: 1.0000e-04\n",
            "Epoch 3/100\n",
            "57/57 [==============================] - 1s 15ms/step - loss: 0.0028 - MAE_price: 0.0266 - MAPE_price: 45.2640 - RMSE_price: 0.0499 - lr: 1.0000e-04\n",
            "Epoch 4/100\n",
            "57/57 [==============================] - 2s 41ms/step - loss: 0.0023 - MAE_price: 0.0242 - MAPE_price: 42.7827 - RMSE_price: 0.0456 - lr: 1.0000e-04\n",
            "Epoch 5/100\n",
            "57/57 [==============================] - 2s 31ms/step - loss: 0.0021 - MAE_price: 0.0228 - MAPE_price: 45.6580 - RMSE_price: 0.0431 - lr: 1.0000e-04\n",
            "Epoch 6/100\n",
            "57/57 [==============================] - 1s 9ms/step - loss: 0.0020 - MAE_price: 0.0216 - MAPE_price: 52.6384 - RMSE_price: 0.0421 - lr: 1.0000e-04\n",
            "Epoch 7/100\n",
            "57/57 [==============================] - 3s 60ms/step - loss: 0.0021 - MAE_price: 0.0219 - MAPE_price: 54.4427 - RMSE_price: 0.0427 - lr: 1.0000e-04\n",
            "Epoch 8/100\n",
            "57/57 [==============================] - 2s 43ms/step - loss: 0.0017 - MAE_price: 0.0202 - MAPE_price: 60.0962 - RMSE_price: 0.0386 - lr: 1.0000e-04\n",
            "Epoch 9/100\n",
            "57/57 [==============================] - 2s 14ms/step - loss: 0.0016 - MAE_price: 0.0195 - MAPE_price: 46.6500 - RMSE_price: 0.0374 - lr: 1.0000e-04\n",
            "Epoch 10/100\n",
            "57/57 [==============================] - 1s 14ms/step - loss: 0.0016 - MAE_price: 0.0198 - MAPE_price: 46.1531 - RMSE_price: 0.0381 - lr: 1.0000e-04\n",
            "Epoch 11/100\n",
            "57/57 [==============================] - 1s 15ms/step - loss: 0.0016 - MAE_price: 0.0186 - MAPE_price: 49.2616 - RMSE_price: 0.0376 - lr: 1.0000e-04\n",
            "Epoch 12/100\n",
            "57/57 [==============================] - 1s 10ms/step - loss: 0.0016 - MAE_price: 0.0192 - MAPE_price: 46.9045 - RMSE_price: 0.0373 - lr: 1.0000e-04\n",
            "Epoch 13/100\n",
            "57/57 [==============================] - 3s 55ms/step - loss: 0.0013 - MAE_price: 0.0177 - MAPE_price: 48.6636 - RMSE_price: 0.0329 - lr: 1.0000e-04\n",
            "Epoch 14/100\n",
            "57/57 [==============================] - 1s 16ms/step - loss: 0.0016 - MAE_price: 0.0189 - MAPE_price: 43.9259 - RMSE_price: 0.0365 - lr: 1.0000e-04\n",
            "Epoch 15/100\n",
            "57/57 [==============================] - 1s 16ms/step - loss: 0.0012 - MAE_price: 0.0177 - MAPE_price: 54.1591 - RMSE_price: 0.0333 - lr: 1.0000e-04\n",
            "Epoch 16/100\n",
            "57/57 [==============================] - 3s 58ms/step - loss: 0.0014 - MAE_price: 0.0176 - MAPE_price: 46.3620 - RMSE_price: 0.0346 - lr: 1.0000e-04\n",
            "Epoch 17/100\n",
            "57/57 [==============================] - 2s 30ms/step - loss: 0.0013 - MAE_price: 0.0171 - MAPE_price: 45.2969 - RMSE_price: 0.0340 - lr: 1.0000e-04\n",
            "Epoch 18/100\n",
            "57/57 [==============================] - 1s 23ms/step - loss: 0.0012 - MAE_price: 0.0163 - MAPE_price: 41.2919 - RMSE_price: 0.0313 - lr: 1.0000e-04\n",
            "Epoch 19/100\n",
            "57/57 [==============================] - 2s 29ms/step - loss: 0.0011 - MAE_price: 0.0168 - MAPE_price: 49.2126 - RMSE_price: 0.0321 - lr: 1.0000e-04\n",
            "Epoch 20/100\n",
            "57/57 [==============================] - 1s 25ms/step - loss: 0.0012 - MAE_price: 0.0165 - MAPE_price: 46.4376 - RMSE_price: 0.0315 - lr: 1.0000e-04\n",
            "Epoch 21/100\n",
            "57/57 [==============================] - 3s 45ms/step - loss: 0.0011 - MAE_price: 0.0163 - MAPE_price: 42.4747 - RMSE_price: 0.0314 - lr: 1.0000e-04\n",
            "Epoch 22/100\n",
            "57/57 [==============================] - 1s 14ms/step - loss: 0.0011 - MAE_price: 0.0158 - MAPE_price: 46.3012 - RMSE_price: 0.0303 - lr: 1.0000e-04\n",
            "Epoch 23/100\n",
            "57/57 [==============================] - 1s 20ms/step - loss: 0.0011 - MAE_price: 0.0162 - MAPE_price: 42.2970 - RMSE_price: 0.0316 - lr: 1.0000e-04\n",
            "Epoch 24/100\n",
            "57/57 [==============================] - 2s 29ms/step - loss: 0.0010 - MAE_price: 0.0159 - MAPE_price: 47.3699 - RMSE_price: 0.0302 - lr: 1.0000e-04\n",
            "Epoch 25/100\n",
            "57/57 [==============================] - 2s 29ms/step - loss: 0.0011 - MAE_price: 0.0155 - MAPE_price: 48.1487 - RMSE_price: 0.0300 - lr: 1.0000e-04\n",
            "Epoch 26/100\n",
            "57/57 [==============================] - 1s 23ms/step - loss: 9.6352e-04 - MAE_price: 0.0156 - MAPE_price: 42.5580 - RMSE_price: 0.0293 - lr: 1.0000e-04\n",
            "Epoch 27/100\n",
            "57/57 [==============================] - 1s 10ms/step - loss: 9.7821e-04 - MAE_price: 0.0157 - MAPE_price: 53.3884 - RMSE_price: 0.0293 - lr: 1.0000e-04\n",
            "Epoch 28/100\n",
            "57/57 [==============================] - 2s 44ms/step - loss: 8.8026e-04 - MAE_price: 0.0146 - MAPE_price: 43.0692 - RMSE_price: 0.0280 - lr: 1.0000e-04\n",
            "Epoch 29/100\n",
            "57/57 [==============================] - 1s 10ms/step - loss: 9.4516e-04 - MAE_price: 0.0151 - MAPE_price: 47.5979 - RMSE_price: 0.0289 - lr: 1.0000e-04\n",
            "Epoch 30/100\n",
            "57/57 [==============================] - 2s 39ms/step - loss: 9.3413e-04 - MAE_price: 0.0154 - MAPE_price: 43.7513 - RMSE_price: 0.0291 - lr: 1.0000e-04\n",
            "Epoch 31/100\n",
            "57/57 [==============================] - 1s 20ms/step - loss: 8.9002e-04 - MAE_price: 0.0146 - MAPE_price: 48.5083 - RMSE_price: 0.0273 - lr: 1.0000e-04\n",
            "Epoch 32/100\n",
            "57/57 [==============================] - 4s 78ms/step - loss: 8.8801e-04 - MAE_price: 0.0144 - MAPE_price: 44.3519 - RMSE_price: 0.0277 - lr: 1.0000e-04\n",
            "Epoch 33/100\n",
            "57/57 [==============================] - 1s 9ms/step - loss: 8.9810e-04 - MAE_price: 0.0148 - MAPE_price: 47.6831 - RMSE_price: 0.0278 - lr: 1.0000e-04\n",
            "Epoch 34/100\n",
            "57/57 [==============================] - 3s 52ms/step - loss: 8.1043e-04 - MAE_price: 0.0140 - MAPE_price: 47.0916 - RMSE_price: 0.0265 - lr: 1.0000e-04\n",
            "Epoch 35/100\n",
            "57/57 [==============================] - 1s 15ms/step - loss: 9.0432e-04 - MAE_price: 0.0147 - MAPE_price: 45.0442 - RMSE_price: 0.0280 - lr: 1.0000e-04\n",
            "Epoch 36/100\n",
            "57/57 [==============================] - 2s 39ms/step - loss: 9.1561e-04 - MAE_price: 0.0151 - MAPE_price: 44.1824 - RMSE_price: 0.0284 - lr: 1.0000e-04\n",
            "Epoch 37/100\n",
            "57/57 [==============================] - 2s 33ms/step - loss: 9.9861e-04 - MAE_price: 0.0150 - MAPE_price: 48.7766 - RMSE_price: 0.0283 - lr: 1.0000e-04\n",
            "Epoch 38/100\n",
            "57/57 [==============================] - 1s 19ms/step - loss: 9.2913e-04 - MAE_price: 0.0146 - MAPE_price: 44.3450 - RMSE_price: 0.0289 - lr: 1.0000e-04\n",
            "Epoch 39/100\n",
            "57/57 [==============================] - 3s 55ms/step - loss: 8.5776e-04 - MAE_price: 0.0144 - MAPE_price: 46.1227 - RMSE_price: 0.0272 - lr: 1.0000e-04\n",
            "Epoch 40/100\n",
            "57/57 [==============================] - 2s 30ms/step - loss: 8.3738e-04 - MAE_price: 0.0144 - MAPE_price: 49.0459 - RMSE_price: 0.0271 - lr: 1.0000e-04\n",
            "Epoch 41/100\n",
            "57/57 [==============================] - 1s 14ms/step - loss: 8.1989e-04 - MAE_price: 0.0139 - MAPE_price: 46.6588 - RMSE_price: 0.0269 - lr: 1.0000e-04\n",
            "Epoch 42/100\n",
            "57/57 [==============================] - 1s 15ms/step - loss: 8.2199e-04 - MAE_price: 0.0144 - MAPE_price: 48.9639 - RMSE_price: 0.0271 - lr: 1.0000e-04\n",
            "Epoch 43/100\n",
            "57/57 [==============================] - 1s 9ms/step - loss: 8.0537e-04 - MAE_price: 0.0143 - MAPE_price: 45.7385 - RMSE_price: 0.0270 - lr: 1.0000e-04\n",
            "Epoch 44/100\n",
            "57/57 [==============================] - 3s 54ms/step - loss: 7.8020e-04 - MAE_price: 0.0140 - MAPE_price: 49.0783 - RMSE_price: 0.0264 - lr: 1.0000e-04\n",
            "Epoch 45/100\n",
            "57/57 [==============================] - 1s 14ms/step - loss: 8.0253e-04 - MAE_price: 0.0140 - MAPE_price: 43.8035 - RMSE_price: 0.0265 - lr: 1.0000e-04\n",
            "Epoch 46/100\n",
            "57/57 [==============================] - 1s 13ms/step - loss: 7.6779e-04 - MAE_price: 0.0137 - MAPE_price: 45.4750 - RMSE_price: 0.0262 - lr: 1.0000e-04\n",
            "Epoch 47/100\n",
            "57/57 [==============================] - 5s 85ms/step - loss: 7.1604e-04 - MAE_price: 0.0136 - MAPE_price: 55.7484 - RMSE_price: 0.0252 - lr: 1.0000e-04\n",
            "Epoch 48/100\n",
            "57/57 [==============================] - 1s 23ms/step - loss: 7.0273e-04 - MAE_price: 0.0135 - MAPE_price: 40.6750 - RMSE_price: 0.0252 - lr: 1.0000e-04\n",
            "Epoch 49/100\n",
            "57/57 [==============================] - 4s 73ms/step - loss: 7.2227e-04 - MAE_price: 0.0139 - MAPE_price: 50.7817 - RMSE_price: 0.0254 - lr: 1.0000e-04\n",
            "Epoch 50/100\n",
            "57/57 [==============================] - 1s 9ms/step - loss: 7.3299e-04 - MAE_price: 0.0134 - MAPE_price: 48.0202 - RMSE_price: 0.0255 - lr: 1.0000e-04\n",
            "Epoch 51/100\n",
            "57/57 [==============================] - 2s 33ms/step - loss: 7.0923e-04 - MAE_price: 0.0132 - MAPE_price: 48.2225 - RMSE_price: 0.0246 - lr: 1.0000e-05\n",
            "Epoch 52/100\n",
            "57/57 [==============================] - 2s 42ms/step - loss: 7.5781e-04 - MAE_price: 0.0134 - MAPE_price: 43.8149 - RMSE_price: 0.0253 - lr: 1.0000e-05\n",
            "Epoch 53/100\n",
            "57/57 [==============================] - 1s 19ms/step - loss: 6.8988e-04 - MAE_price: 0.0132 - MAPE_price: 41.3670 - RMSE_price: 0.0249 - lr: 1.0000e-05\n",
            "Epoch 54/100\n",
            "57/57 [==============================] - 4s 65ms/step - loss: 7.0404e-04 - MAE_price: 0.0129 - MAPE_price: 39.2638 - RMSE_price: 0.0244 - lr: 1.0000e-05\n",
            "Epoch 55/100\n",
            "57/57 [==============================] - 1s 10ms/step - loss: 7.9733e-04 - MAE_price: 0.0135 - MAPE_price: 41.3425 - RMSE_price: 0.0262 - lr: 1.0000e-05\n",
            "Epoch 56/100\n",
            "57/57 [==============================] - 5s 86ms/step - loss: 7.1744e-04 - MAE_price: 0.0131 - MAPE_price: 45.4012 - RMSE_price: 0.0253 - lr: 1.0000e-05\n",
            "Epoch 57/100\n",
            "57/57 [==============================] - 1s 14ms/step - loss: 6.6253e-04 - MAE_price: 0.0130 - MAPE_price: 46.5152 - RMSE_price: 0.0237 - lr: 1.0000e-05\n",
            "Epoch 58/100\n",
            "57/57 [==============================] - 1s 9ms/step - loss: 7.2057e-04 - MAE_price: 0.0133 - MAPE_price: 43.5750 - RMSE_price: 0.0254 - lr: 1.0000e-05\n",
            "Epoch 59/100\n",
            "57/57 [==============================] - 3s 45ms/step - loss: 6.2826e-04 - MAE_price: 0.0125 - MAPE_price: 41.2721 - RMSE_price: 0.0237 - lr: 1.0000e-05\n",
            "Epoch 60/100\n",
            "57/57 [==============================] - 1s 9ms/step - loss: 7.0397e-04 - MAE_price: 0.0133 - MAPE_price: 43.1703 - RMSE_price: 0.0247 - lr: 1.0000e-05\n",
            "Epoch 61/100\n",
            "57/57 [==============================] - 2s 43ms/step - loss: 7.2054e-04 - MAE_price: 0.0134 - MAPE_price: 47.0210 - RMSE_price: 0.0250 - lr: 1.0000e-05\n",
            "Epoch 62/100\n",
            "57/57 [==============================] - 1s 10ms/step - loss: 7.2421e-04 - MAE_price: 0.0131 - MAPE_price: 45.3209 - RMSE_price: 0.0249 - lr: 1.0000e-05\n",
            "Epoch 63/100\n",
            "57/57 [==============================] - 5s 89ms/step - loss: 7.7575e-04 - MAE_price: 0.0134 - MAPE_price: 46.4135 - RMSE_price: 0.0258 - lr: 1.0000e-05\n",
            "Epoch 64/100\n",
            "57/57 [==============================] - 1s 15ms/step - loss: 6.7325e-04 - MAE_price: 0.0134 - MAPE_price: 45.9196 - RMSE_price: 0.0245 - lr: 1.0000e-05\n",
            "Epoch 65/100\n",
            "57/57 [==============================] - 2s 38ms/step - loss: 7.0321e-04 - MAE_price: 0.0128 - MAPE_price: 44.7933 - RMSE_price: 0.0248 - lr: 1.0000e-05\n",
            "Epoch 66/100\n",
            "57/57 [==============================] - 1s 14ms/step - loss: 6.5271e-04 - MAE_price: 0.0127 - MAPE_price: 45.0583 - RMSE_price: 0.0237 - lr: 1.0000e-05\n",
            "Epoch 67/100\n",
            "57/57 [==============================] - 2s 40ms/step - loss: 7.2259e-04 - MAE_price: 0.0129 - MAPE_price: 44.2331 - RMSE_price: 0.0252 - lr: 1.0000e-05\n",
            "Epoch 68/100\n",
            "57/57 [==============================] - 1s 15ms/step - loss: 6.8109e-04 - MAE_price: 0.0129 - MAPE_price: 44.0696 - RMSE_price: 0.0242 - lr: 1.0000e-05\n",
            "Epoch 69/100\n",
            "57/57 [==============================] - 3s 45ms/step - loss: 7.1982e-04 - MAE_price: 0.0132 - MAPE_price: 45.7976 - RMSE_price: 0.0250 - lr: 1.0000e-05\n",
            "Epoch 70/100\n",
            "57/57 [==============================] - 1s 14ms/step - loss: 6.8289e-04 - MAE_price: 0.0128 - MAPE_price: 44.7736 - RMSE_price: 0.0247 - lr: 1.0000e-05\n",
            "Epoch 71/100\n",
            "57/57 [==============================] - 4s 59ms/step - loss: 6.7488e-04 - MAE_price: 0.0127 - MAPE_price: 43.3033 - RMSE_price: 0.0247 - lr: 1.0000e-05\n",
            "Epoch 72/100\n",
            "57/57 [==============================] - 1s 10ms/step - loss: 7.2308e-04 - MAE_price: 0.0132 - MAPE_price: 46.2604 - RMSE_price: 0.0251 - lr: 1.0000e-05\n",
            "Epoch 73/100\n",
            "57/57 [==============================] - 1s 9ms/step - loss: 7.1952e-04 - MAE_price: 0.0129 - MAPE_price: 43.1065 - RMSE_price: 0.0248 - lr: 1.0000e-05\n",
            "Epoch 74/100\n",
            "57/57 [==============================] - 2s 38ms/step - loss: 7.2571e-04 - MAE_price: 0.0132 - MAPE_price: 43.1372 - RMSE_price: 0.0252 - lr: 1.0000e-05\n",
            "Epoch 75/100\n",
            "57/57 [==============================] - 1s 10ms/step - loss: 6.4331e-04 - MAE_price: 0.0128 - MAPE_price: 46.7516 - RMSE_price: 0.0240 - lr: 1.0000e-05\n",
            "Epoch 76/100\n",
            "57/57 [==============================] - 2s 38ms/step - loss: 7.5308e-04 - MAE_price: 0.0130 - MAPE_price: 45.4051 - RMSE_price: 0.0250 - lr: 1.0000e-05\n",
            "Epoch 77/100\n",
            "57/57 [==============================] - 4s 78ms/step - loss: 6.9288e-04 - MAE_price: 0.0129 - MAPE_price: 48.0629 - RMSE_price: 0.0241 - lr: 1.0000e-05\n",
            "Epoch 78/100\n",
            "57/57 [==============================] - 1s 10ms/step - loss: 6.5911e-04 - MAE_price: 0.0127 - MAPE_price: 43.8375 - RMSE_price: 0.0244 - lr: 1.0000e-05\n",
            "Epoch 79/100\n",
            "57/57 [==============================] - 3s 59ms/step - loss: 7.4884e-04 - MAE_price: 0.0132 - MAPE_price: 45.0915 - RMSE_price: 0.0250 - lr: 1.0000e-05\n",
            "Epoch 80/100\n",
            "57/57 [==============================] - 1s 10ms/step - loss: 7.3207e-04 - MAE_price: 0.0133 - MAPE_price: 45.3089 - RMSE_price: 0.0251 - lr: 1.0000e-05\n",
            "Epoch 81/100\n",
            "57/57 [==============================] - 1s 14ms/step - loss: 6.6680e-04 - MAE_price: 0.0129 - MAPE_price: 43.1378 - RMSE_price: 0.0240 - lr: 1.0000e-05\n",
            "Epoch 82/100\n",
            "57/57 [==============================] - 1s 16ms/step - loss: 7.1086e-04 - MAE_price: 0.0132 - MAPE_price: 47.6287 - RMSE_price: 0.0249 - lr: 1.0000e-05\n",
            "Epoch 83/100\n",
            "57/57 [==============================] - 1s 10ms/step - loss: 7.1001e-04 - MAE_price: 0.0130 - MAPE_price: 43.8672 - RMSE_price: 0.0245 - lr: 1.0000e-05\n",
            "Epoch 84/100\n",
            "57/57 [==============================] - 5s 92ms/step - loss: 7.5407e-04 - MAE_price: 0.0132 - MAPE_price: 46.1795 - RMSE_price: 0.0257 - lr: 1.0000e-05\n",
            "Epoch 85/100\n",
            "57/57 [==============================] - 1s 9ms/step - loss: 6.5865e-04 - MAE_price: 0.0126 - MAPE_price: 44.8478 - RMSE_price: 0.0238 - lr: 1.0000e-05\n",
            "Epoch 86/100\n",
            "57/57 [==============================] - 2s 38ms/step - loss: 8.6988e-04 - MAE_price: 0.0139 - MAPE_price: 44.1463 - RMSE_price: 0.0269 - lr: 1.0000e-05\n",
            "Epoch 87/100\n",
            "57/57 [==============================] - 2s 30ms/step - loss: 7.2104e-04 - MAE_price: 0.0130 - MAPE_price: 43.0705 - RMSE_price: 0.0252 - lr: 1.0000e-05\n",
            "Epoch 88/100\n",
            "57/57 [==============================] - 1s 26ms/step - loss: 7.1057e-04 - MAE_price: 0.0132 - MAPE_price: 44.4951 - RMSE_price: 0.0251 - lr: 1.0000e-05\n",
            "Epoch 89/100\n",
            "57/57 [==============================] - 3s 46ms/step - loss: 6.9159e-04 - MAE_price: 0.0128 - MAPE_price: 44.7217 - RMSE_price: 0.0244 - lr: 1.0000e-05\n",
            "Epoch 90/100\n",
            "57/57 [==============================] - 1s 19ms/step - loss: 7.0357e-04 - MAE_price: 0.0130 - MAPE_price: 41.0299 - RMSE_price: 0.0249 - lr: 1.0000e-05\n",
            "Epoch 91/100\n",
            "57/57 [==============================] - 3s 58ms/step - loss: 6.9664e-04 - MAE_price: 0.0127 - MAPE_price: 41.5908 - RMSE_price: 0.0246 - lr: 1.0000e-05\n",
            "Epoch 92/100\n",
            "57/57 [==============================] - 1s 15ms/step - loss: 7.0994e-04 - MAE_price: 0.0132 - MAPE_price: 44.8861 - RMSE_price: 0.0250 - lr: 1.0000e-05\n",
            "Epoch 93/100\n",
            "57/57 [==============================] - 1s 13ms/step - loss: 7.4715e-04 - MAE_price: 0.0131 - MAPE_price: 45.6916 - RMSE_price: 0.0252 - lr: 1.0000e-05\n",
            "Epoch 94/100\n",
            "57/57 [==============================] - 1s 15ms/step - loss: 6.9296e-04 - MAE_price: 0.0130 - MAPE_price: 42.5887 - RMSE_price: 0.0248 - lr: 1.0000e-05\n",
            "Epoch 95/100\n",
            "57/57 [==============================] - 1s 10ms/step - loss: 6.6084e-04 - MAE_price: 0.0129 - MAPE_price: 44.5395 - RMSE_price: 0.0242 - lr: 1.0000e-05\n",
            "Epoch 96/100\n",
            "57/57 [==============================] - 4s 70ms/step - loss: 6.7110e-04 - MAE_price: 0.0128 - MAPE_price: 45.6187 - RMSE_price: 0.0245 - lr: 1.0000e-05\n",
            "Epoch 97/100\n",
            "57/57 [==============================] - 1s 14ms/step - loss: 6.2852e-04 - MAE_price: 0.0125 - MAPE_price: 45.8237 - RMSE_price: 0.0235 - lr: 1.0000e-05\n",
            "Epoch 98/100\n",
            "57/57 [==============================] - 1s 15ms/step - loss: 6.9683e-04 - MAE_price: 0.0127 - MAPE_price: 42.3348 - RMSE_price: 0.0240 - lr: 1.0000e-05\n",
            "Epoch 99/100\n",
            "57/57 [==============================] - 1s 19ms/step - loss: 6.7025e-04 - MAE_price: 0.0127 - MAPE_price: 44.0463 - RMSE_price: 0.0245 - lr: 1.0000e-05\n",
            "Epoch 100/100\n",
            "57/57 [==============================] - 3s 59ms/step - loss: 6.6306e-04 - MAE_price: 0.0128 - MAPE_price: 45.2708 - RMSE_price: 0.0240 - lr: 1.0000e-05\n"
          ]
        }
      ]
    },
    {
      "cell_type": "code",
      "source": [
        "import matplotlib.pyplot as plt\n",
        "MSE = monero_hist.history['loss']\n",
        "MAE = monero_hist.history['MAE_price']\n",
        "# Plot MSE\n",
        "plt.plot(MSE, label='Training MSE(loss)')\n",
        "plt.xlabel('Epoch')\n",
        "plt.ylabel('MSE')\n",
        "plt.ylim((0,0.005))\n",
        "plt.legend()\n",
        "plt.show()"
      ],
      "metadata": {
        "colab": {
          "base_uri": "https://localhost:8080/",
          "height": 455
        },
        "id": "8jIDz2OifG3a",
        "outputId": "a42555f8-3735-45ea-efb6-30679a27285a"
      },
      "execution_count": null,
      "outputs": [
        {
          "output_type": "display_data",
          "data": {
            "text/plain": [
              "<Figure size 640x480 with 1 Axes>"
            ],
            "image/png": "[encoded data removed]"
          },
          "metadata": {}
        }
      ]
    },
    {
      "cell_type": "code",
      "source": [
        "# Plot MAE\n",
        "plt.plot(MAE, label='Training MAE')\n",
        "plt.xlabel('Epoch')\n",
        "plt.ylabel('MAE')\n",
        "plt.legend()\n",
        "plt.ylim((0,0.03))\n",
        "plt.show()"
      ],
      "metadata": {
        "colab": {
          "base_uri": "https://localhost:8080/",
          "height": 455
        },
        "id": "N-ofcGs8AfAZ",
        "outputId": "4dc7e4d1-e298-45dc-efb2-117d62550d21"
      },
      "execution_count": null,
      "outputs": [
        {
          "output_type": "display_data",
          "data": {
            "text/plain": [
              "<Figure size 640x480 with 1 Axes>"
            ],
            "image/png": "[encoded data removed]"
          },
          "metadata": {}
        }
      ]
    },
    {
      "cell_type": "code",
      "source": [
        "def predict_next_days(weights_path,monero_test_input,window_length=7):\n",
        "  full_hybrid.load_weights(weights_path)\n",
        "  monero_test_input=np.array(monero_test_input)\n",
        "  predicted_days=[]\n",
        "  for i in range(window_length):\n",
        "    if i!=0:\n",
        "      monero_test_input=np.append(monero_test_input[i:],day,axis=0)\n",
        "    day=full_hybrid.predict(tf.expand_dims(monero_test_input,axis=0))\n",
        "    predicted_days.append(day)\n",
        "  return predicted_days\n",
        "#one day window(predict 23 of February 2020)\n",
        "monero_pred=predict_next_days('drive/MyDrive/monero.hdf5',monero_test[6:36],window_length=1)\n",
        "monero_pred=np.squeeze(np.array(monero_pred))\n",
        "price_pred=monero_pred[0]\n",
        "real_price=monero_test.Price.iloc[-1]\n",
        "#print(f'real_price={real_price},predicted_price={price_pred}')\n",
        "pred_df = monero_scaler.inverse_transform(monero_pred.reshape(1, -1))\n",
        "# Extract only the first column as it contains the inverse transformed values for price predictions.\n",
        "prediction = np.array(pred_df[:, 0])\n",
        "target_df=monero_scaler.inverse_transform(monero_test[-1:])\n",
        "target=np.array(target_df[:,0])"
      ],
      "metadata": {
        "id": "waUZy_1CcLrj",
        "colab": {
          "base_uri": "https://localhost:8080/"
        },
        "outputId": "fe085ffe-df9d-4654-e4a3-f18d944ff849"
      },
      "execution_count": null,
      "outputs": [
        {
          "output_type": "stream",
          "name": "stdout",
          "text": [
            "1/1 [==============================] - 1s 880ms/step\n"
          ]
        }
      ]
    },
    {
      "cell_type": "code",
      "source": [
        "proposed_monero_MSE=tf.metrics.MeanSquaredError()(target,prediction)\n",
        "proposed_monero_MAE=tf.metrics.MeanAbsoluteError()(target,prediction)\n",
        "proposed_monero_RMSE=tf.metrics.RootMeanSquaredError()(target,prediction)\n",
        "proposed_monero_MAPE=tf.metrics.MeanAbsolutePercentageError()(target,prediction)\n",
        "print(f'for one day window(monero):MSE={proposed_monero_MSE},MAE={proposed_monero_MAE},MAPE={proposed_monero_MAPE},RMSE={proposed_monero_RMSE}')"
      ],
      "metadata": {
        "colab": {
          "base_uri": "https://localhost:8080/"
        },
        "id": "kIlD4GA9ZXnz",
        "outputId": "9340d57a-9c78-4e8a-e82d-348459976870"
      },
      "execution_count": null,
      "outputs": [
        {
          "output_type": "stream",
          "name": "stdout",
          "text": [
            "for one day window(monero):MSE=7.5347466468811035,MAE=2.7449493408203125,MAPE=3.216900587081909,RMSE=2.7449493408203125\n"
          ]
        }
      ]
    },
    {
      "cell_type": "code",
      "source": [
        "#three day window(predict from21 to 23February)\n",
        "monero_pred=predict_next_days('drive/MyDrive/monero.hdf5',monero_test[4:34],window_length=3)\n",
        "monero_pred=np.squeeze(np.array(monero_pred))\n",
        "pred_df=monero_scaler.inverse_transform(monero_pred)\n",
        "prediction = np.array(pred_df[:, 0])\n",
        "target_df=monero_scaler.inverse_transform(monero_test[-3:])\n",
        "target=np.array(target_df[:,0])"
      ],
      "metadata": {
        "id": "2pH3XP_Ci57O",
        "colab": {
          "base_uri": "https://localhost:8080/"
        },
        "outputId": "c71d0c11-50de-463f-d3d3-86bada655015"
      },
      "execution_count": null,
      "outputs": [
        {
          "output_type": "stream",
          "name": "stdout",
          "text": [
            "1/1 [==============================] - 0s 337ms/step\n",
            "1/1 [==============================] - 0s 29ms/step\n",
            "1/1 [==============================] - 2s 2s/step\n"
          ]
        }
      ]
    },
    {
      "cell_type": "code",
      "source": [
        "proposed_monero_MSE=tf.metrics.MeanSquaredError()(target,prediction)\n",
        "proposed_monero_MAE=tf.metrics.MeanAbsoluteError()(target,prediction)\n",
        "proposed_monero_RMSE=tf.metrics.RootMeanSquaredError()(target,prediction)\n",
        "proposed_monero_MAPE=tf.metrics.MeanAbsolutePercentageError()(target,prediction)\n",
        "print(f'for three day window(monero):MSE={proposed_monero_MSE},MAE={proposed_monero_MAE},MAPE={proposed_monero_MAPE},RMSE={proposed_monero_RMSE}')"
      ],
      "metadata": {
        "id": "Ity3Xl5kmxPG",
        "colab": {
          "base_uri": "https://localhost:8080/"
        },
        "outputId": "dc98e269-0c4c-45ec-c46e-6e9ad50e5e1a"
      },
      "execution_count": null,
      "outputs": [
        {
          "output_type": "stream",
          "name": "stdout",
          "text": [
            "for three day window(monero):MSE=28.11101722717285,MAE=4.8135223388671875,MAPE=5.826882839202881,RMSE=5.301982402801514\n"
          ]
        }
      ]
    },
    {
      "cell_type": "code",
      "source": [
        "#seven day window(predict from17 to 23 february)\n",
        "monero_pred=predict_next_days('drive/MyDrive/monero.hdf5',monero_test[0:30],window_length=7)\n",
        "monero_pred=np.squeeze(np.array(monero_pred))\n",
        "pred_df=monero_scaler.inverse_transform(monero_pred)\n",
        "prediction = np.array(pred_df[:, 0])\n",
        "target_df=monero_scaler.inverse_transform(monero_test[-7:])\n",
        "target=np.array(target_df[:,0])"
      ],
      "metadata": {
        "colab": {
          "base_uri": "https://localhost:8080/"
        },
        "id": "L5WmxXhQ-8N9",
        "outputId": "62ebbce6-d936-4c29-9a2f-b40de67f1f5f"
      },
      "execution_count": null,
      "outputs": [
        {
          "output_type": "stream",
          "name": "stdout",
          "text": [
            "1/1 [==============================] - 1s 1s/step\n",
            "1/1 [==============================] - 0s 32ms/step\n",
            "1/1 [==============================] - 0s 29ms/step\n",
            "1/1 [==============================] - 0s 28ms/step\n",
            "1/1 [==============================] - 0s 28ms/step\n",
            "1/1 [==============================] - 0s 29ms/step\n",
            "1/1 [==============================] - 0s 43ms/step\n"
          ]
        }
      ]
    },
    {
      "cell_type": "code",
      "source": [
        "proposed_monero_MSE=tf.metrics.MeanSquaredError()(target,prediction)\n",
        "proposed_monero_MAE=tf.metrics.MeanAbsoluteError()(target,prediction)\n",
        "proposed_monero_RMSE=tf.metrics.RootMeanSquaredError()(target,prediction)\n",
        "proposed_monero_MAPE=tf.metrics.MeanAbsolutePercentageError()(target,prediction)\n",
        "print(f'for seven day window(monero):MSE={proposed_monero_MSE},MAE={proposed_monero_MAE},MAPE={proposed_monero_MAPE},RMSE={proposed_monero_RMSE}')"
      ],
      "metadata": {
        "colab": {
          "base_uri": "https://localhost:8080/"
        },
        "id": "aDzrRiQn_pgN",
        "outputId": "067276d7-ac4f-4733-fb6d-ba99ac6edc2e"
      },
      "execution_count": null,
      "outputs": [
        {
          "output_type": "stream",
          "name": "stdout",
          "text": [
            "for seven day window(monero):MSE=38.56324005126953,MAE=5.156500816345215,MAPE=6.340812683105469,RMSE=6.209930419921875\n"
          ]
        }
      ]
    },
    {
      "cell_type": "markdown",
      "source": [
        "#Litecoin proposed Model train and results"
      ],
      "metadata": {
        "id": "3Cqz0_09AsF1"
      }
    },
    {
      "cell_type": "code",
      "source": [
        "  LSTM_Part=Sequential()\n",
        "  LSTM_Part.add(LSTM(30,return_sequences=True,input_shape=(30,6)))\n",
        "  LSTM_Part.add(Dropout(0.3))\n",
        "  LSTM_Part.add(LSTM(50))\n",
        "  LSTM_Part.add(Dense(50,activation=relu))\n",
        "  GRU_part=Sequential()\n",
        "  GRU_part.add(GRU(30))\n",
        "  GRU_part.add(Dropout(0.3))\n",
        "  GRU_part.add(Dense(30,activation=relu))\n",
        "  x=Input((30,6))\n",
        "  y=Concatenate()([LSTM_Part(x),GRU_part(x)])\n",
        "  z=Dense(6,activation=relu)(y)\n",
        "  full_hybrid=tf.keras.Model(inputs=x,outputs=z)\n",
        "  def litecoin_scheduler(epoch, lr):\n",
        "    if epoch%10==0:\n",
        "      return 0.9*lr\n",
        "    else:\n",
        "      return lr"
      ],
      "metadata": {
        "id": "7IiGgEN8EuKz"
      },
      "execution_count": null,
      "outputs": []
    },
    {
      "cell_type": "code",
      "source": [
        "#earlystopping= EarlyStopping(monitor='val_loss', patience=10, verbose=0, mode='min')\n",
        "full_hybrid.compile(optimizer=Adam(learning_rate=0.02),loss=MSE_price,metrics=[MAE_price,MAPE_price,RMSE_price])\n",
        "lr_schedule=tf.keras.callbacks.LearningRateScheduler(litecoin_scheduler)                                                                                            \n",
        "litecoin_cp = ModelCheckpoint('drive/MyDrive/litecoin.hdf5', monitor='MAE_price', mode='min')\n",
        "earlystopping= EarlyStopping(monitor='loss', patience=10, verbose=0, mode='min')\n",
        "litecoin_hist=full_hybrid.fit(litecoin_x,litecoin_y,batch_size=32,epochs=100,callbacks=[litecoin_cp,lr_schedule,earlystopping])\n",
        "                              #,validation_data=(x_val_litecoin,y_val_litecoin))"
      ],
      "metadata": {
        "colab": {
          "base_uri": "https://localhost:8080/"
        },
        "outputId": "56fd3535-8fb4-4460-8cd5-02b2caed1520",
        "id": "YzdEFqDTA_x4"
      },
      "execution_count": null,
      "outputs": [
        {
          "output_type": "stream",
          "name": "stdout",
          "text": [
            "Epoch 1/100\n",
            "39/39 [==============================] - 10s 117ms/step - loss: 0.0816 - MAE_price: 0.0958 - MAPE_price: 22459.5410 - RMSE_price: 0.1184 - lr: 0.0180\n",
            "Epoch 2/100\n",
            "39/39 [==============================] - 2s 63ms/step - loss: 0.0020 - MAE_price: 0.0275 - MAPE_price: 93.8387 - RMSE_price: 0.0415 - lr: 0.0180\n",
            "Epoch 3/100\n",
            "39/39 [==============================] - 0s 10ms/step - loss: 0.0019 - MAE_price: 0.0277 - MAPE_price: 21976.0938 - RMSE_price: 0.0410 - lr: 0.0180\n",
            "Epoch 4/100\n",
            "39/39 [==============================] - 1s 31ms/step - loss: 0.0018 - MAE_price: 0.0262 - MAPE_price: 30049.1543 - RMSE_price: 0.0388 - lr: 0.0180\n",
            "Epoch 5/100\n",
            "39/39 [==============================] - 1s 10ms/step - loss: 0.0016 - MAE_price: 0.0243 - MAPE_price: 82.9847 - RMSE_price: 0.0363 - lr: 0.0180\n",
            "Epoch 6/100\n",
            "39/39 [==============================] - 0s 11ms/step - loss: 0.0012 - MAE_price: 0.0201 - MAPE_price: 11977.9131 - RMSE_price: 0.0314 - lr: 0.0180\n",
            "Epoch 7/100\n",
            "39/39 [==============================] - 3s 75ms/step - loss: 9.4592e-04 - MAE_price: 0.0179 - MAPE_price: 3668.4031 - RMSE_price: 0.0282 - lr: 0.0180\n",
            "Epoch 8/100\n",
            "39/39 [==============================] - 1s 18ms/step - loss: 0.0012 - MAE_price: 0.0209 - MAPE_price: 5325.6328 - RMSE_price: 0.0323 - lr: 0.0180\n",
            "Epoch 9/100\n",
            "39/39 [==============================] - 0s 11ms/step - loss: 9.5593e-04 - MAE_price: 0.0177 - MAPE_price: 43879.4375 - RMSE_price: 0.0282 - lr: 0.0180\n",
            "Epoch 10/100\n",
            "39/39 [==============================] - 4s 103ms/step - loss: 8.7182e-04 - MAE_price: 0.0178 - MAPE_price: 4218.5942 - RMSE_price: 0.0277 - lr: 0.0180\n",
            "Epoch 11/100\n",
            "39/39 [==============================] - 1s 19ms/step - loss: 9.1642e-04 - MAE_price: 0.0167 - MAPE_price: 48.1818 - RMSE_price: 0.0279 - lr: 0.0162\n",
            "Epoch 12/100\n",
            "39/39 [==============================] - 0s 10ms/step - loss: 8.8837e-04 - MAE_price: 0.0169 - MAPE_price: 8083.6699 - RMSE_price: 0.0269 - lr: 0.0162\n",
            "Epoch 13/100\n",
            "39/39 [==============================] - 3s 78ms/step - loss: 0.0012 - MAE_price: 0.0207 - MAPE_price: 20174.3496 - RMSE_price: 0.0316 - lr: 0.0162\n",
            "Epoch 14/100\n",
            "39/39 [==============================] - 1s 18ms/step - loss: 0.0012 - MAE_price: 0.0212 - MAPE_price: 55.4663 - RMSE_price: 0.0322 - lr: 0.0162\n",
            "Epoch 15/100\n",
            "39/39 [==============================] - 0s 11ms/step - loss: 8.8882e-04 - MAE_price: 0.0180 - MAPE_price: 35.7113 - RMSE_price: 0.0280 - lr: 0.0162\n",
            "Epoch 16/100\n",
            "39/39 [==============================] - 0s 10ms/step - loss: 7.9814e-04 - MAE_price: 0.0174 - MAPE_price: 50.5108 - RMSE_price: 0.0262 - lr: 0.0162\n",
            "Epoch 17/100\n",
            "39/39 [==============================] - 0s 10ms/step - loss: 7.4793e-04 - MAE_price: 0.0157 - MAPE_price: 39.1591 - RMSE_price: 0.0252 - lr: 0.0162\n",
            "Epoch 18/100\n",
            "39/39 [==============================] - 4s 104ms/step - loss: 8.1430e-04 - MAE_price: 0.0168 - MAPE_price: 2025.2047 - RMSE_price: 0.0262 - lr: 0.0162\n",
            "Epoch 19/100\n",
            "39/39 [==============================] - 1s 17ms/step - loss: 7.1209e-04 - MAE_price: 0.0158 - MAPE_price: 38.8973 - RMSE_price: 0.0247 - lr: 0.0162\n",
            "Epoch 20/100\n",
            "39/39 [==============================] - 0s 10ms/step - loss: 9.5978e-04 - MAE_price: 0.0181 - MAPE_price: 5361.9429 - RMSE_price: 0.0283 - lr: 0.0162\n",
            "Epoch 21/100\n",
            "39/39 [==============================] - 1s 30ms/step - loss: 0.0010 - MAE_price: 0.0195 - MAPE_price: 9135.7695 - RMSE_price: 0.0297 - lr: 0.0146\n",
            "Epoch 22/100\n",
            "39/39 [==============================] - 2s 63ms/step - loss: 8.3969e-04 - MAE_price: 0.0167 - MAPE_price: 40.1538 - RMSE_price: 0.0264 - lr: 0.0146\n",
            "Epoch 23/100\n",
            "39/39 [==============================] - 0s 11ms/step - loss: 7.0435e-04 - MAE_price: 0.0149 - MAPE_price: 40.3097 - RMSE_price: 0.0244 - lr: 0.0146\n",
            "Epoch 24/100\n",
            "39/39 [==============================] - 1s 17ms/step - loss: 7.5907e-04 - MAE_price: 0.0166 - MAPE_price: 719.9200 - RMSE_price: 0.0256 - lr: 0.0146\n",
            "Epoch 25/100\n",
            "39/39 [==============================] - 0s 10ms/step - loss: 0.0011 - MAE_price: 0.0209 - MAPE_price: 74.9561 - RMSE_price: 0.0314 - lr: 0.0146\n",
            "Epoch 26/100\n",
            "39/39 [==============================] - 0s 11ms/step - loss: 8.0113e-04 - MAE_price: 0.0174 - MAPE_price: 47.0967 - RMSE_price: 0.0268 - lr: 0.0146\n",
            "Epoch 27/100\n",
            "39/39 [==============================] - 3s 83ms/step - loss: 6.8378e-04 - MAE_price: 0.0144 - MAPE_price: 36.4764 - RMSE_price: 0.0238 - lr: 0.0146\n",
            "Epoch 28/100\n",
            "39/39 [==============================] - 2s 41ms/step - loss: 9.2954e-04 - MAE_price: 0.0180 - MAPE_price: 32.5701 - RMSE_price: 0.0275 - lr: 0.0146\n",
            "Epoch 29/100\n",
            "39/39 [==============================] - 0s 11ms/step - loss: 8.0980e-04 - MAE_price: 0.0162 - MAPE_price: 32.6872 - RMSE_price: 0.0263 - lr: 0.0146\n",
            "Epoch 30/100\n",
            "39/39 [==============================] - 2s 55ms/step - loss: 7.4691e-04 - MAE_price: 0.0165 - MAPE_price: 40.0729 - RMSE_price: 0.0253 - lr: 0.0146\n",
            "Epoch 31/100\n",
            "39/39 [==============================] - 1s 18ms/step - loss: 6.6973e-04 - MAE_price: 0.0145 - MAPE_price: 35.6899 - RMSE_price: 0.0234 - lr: 0.0131\n",
            "Epoch 32/100\n",
            "39/39 [==============================] - 0s 10ms/step - loss: 7.7645e-04 - MAE_price: 0.0159 - MAPE_price: 30.0539 - RMSE_price: 0.0251 - lr: 0.0131\n",
            "Epoch 33/100\n",
            "39/39 [==============================] - 2s 56ms/step - loss: 6.3888e-04 - MAE_price: 0.0144 - MAPE_price: 1793.1744 - RMSE_price: 0.0234 - lr: 0.0131\n",
            "Epoch 34/100\n",
            "39/39 [==============================] - 1s 19ms/step - loss: 6.8180e-04 - MAE_price: 0.0152 - MAPE_price: 893.3291 - RMSE_price: 0.0242 - lr: 0.0131\n",
            "Epoch 35/100\n",
            "39/39 [==============================] - 1s 23ms/step - loss: 6.3117e-04 - MAE_price: 0.0136 - MAPE_price: 7140.0498 - RMSE_price: 0.0229 - lr: 0.0131\n",
            "Epoch 36/100\n",
            "39/39 [==============================] - 1s 16ms/step - loss: 6.3628e-04 - MAE_price: 0.0153 - MAPE_price: 8966.3877 - RMSE_price: 0.0238 - lr: 0.0131\n",
            "Epoch 37/100\n",
            "39/39 [==============================] - 3s 75ms/step - loss: 6.3022e-04 - MAE_price: 0.0139 - MAPE_price: 35.6761 - RMSE_price: 0.0229 - lr: 0.0131\n",
            "Epoch 38/100\n",
            "39/39 [==============================] - 1s 18ms/step - loss: 6.9603e-04 - MAE_price: 0.0151 - MAPE_price: 39.2476 - RMSE_price: 0.0241 - lr: 0.0131\n",
            "Epoch 39/100\n",
            "39/39 [==============================] - 0s 11ms/step - loss: 5.9750e-04 - MAE_price: 0.0136 - MAPE_price: 40.8305 - RMSE_price: 0.0226 - lr: 0.0131\n",
            "Epoch 40/100\n",
            "39/39 [==============================] - 1s 39ms/step - loss: 6.3992e-04 - MAE_price: 0.0138 - MAPE_price: 32.1457 - RMSE_price: 0.0231 - lr: 0.0131\n",
            "Epoch 41/100\n",
            "39/39 [==============================] - 0s 11ms/step - loss: 8.3137e-04 - MAE_price: 0.0163 - MAPE_price: 33.6615 - RMSE_price: 0.0254 - lr: 0.0118\n",
            "Epoch 42/100\n",
            "39/39 [==============================] - 1s 31ms/step - loss: 5.9193e-04 - MAE_price: 0.0143 - MAPE_price: 36.0379 - RMSE_price: 0.0227 - lr: 0.0118\n",
            "Epoch 43/100\n",
            "39/39 [==============================] - 2s 41ms/step - loss: 6.1194e-04 - MAE_price: 0.0132 - MAPE_price: 39.9938 - RMSE_price: 0.0217 - lr: 0.0118\n",
            "Epoch 44/100\n",
            "39/39 [==============================] - 0s 10ms/step - loss: 7.4208e-04 - MAE_price: 0.0153 - MAPE_price: 41.8030 - RMSE_price: 0.0251 - lr: 0.0118\n",
            "Epoch 45/100\n",
            "39/39 [==============================] - 2s 44ms/step - loss: 7.2998e-04 - MAE_price: 0.0163 - MAPE_price: 1847.1783 - RMSE_price: 0.0253 - lr: 0.0118\n",
            "Epoch 46/100\n",
            "39/39 [==============================] - 1s 15ms/step - loss: 6.4328e-04 - MAE_price: 0.0144 - MAPE_price: 34.7442 - RMSE_price: 0.0229 - lr: 0.0118\n",
            "Epoch 47/100\n",
            "39/39 [==============================] - 3s 76ms/step - loss: 6.3341e-04 - MAE_price: 0.0141 - MAPE_price: 38.9523 - RMSE_price: 0.0228 - lr: 0.0118\n",
            "Epoch 48/100\n",
            "39/39 [==============================] - 0s 12ms/step - loss: 9.3078e-04 - MAE_price: 0.0187 - MAPE_price: 41.3733 - RMSE_price: 0.0278 - lr: 0.0118\n",
            "Epoch 49/100\n",
            "39/39 [==============================] - 1s 17ms/step - loss: 0.0011 - MAE_price: 0.0199 - MAPE_price: 55.5928 - RMSE_price: 0.0303 - lr: 0.0118\n",
            "Epoch 50/100\n",
            "39/39 [==============================] - 0s 11ms/step - loss: 5.7023e-04 - MAE_price: 0.0140 - MAPE_price: 35.5106 - RMSE_price: 0.0225 - lr: 0.0118\n",
            "Epoch 51/100\n",
            "39/39 [==============================] - 1s 20ms/step - loss: 5.6433e-04 - MAE_price: 0.0136 - MAPE_price: 36.5721 - RMSE_price: 0.0219 - lr: 0.0106\n",
            "Epoch 52/100\n",
            "39/39 [==============================] - 0s 11ms/step - loss: 5.7958e-04 - MAE_price: 0.0143 - MAPE_price: 31.3233 - RMSE_price: 0.0226 - lr: 0.0106\n",
            "Epoch 53/100\n",
            "39/39 [==============================] - 3s 79ms/step - loss: 5.8720e-04 - MAE_price: 0.0141 - MAPE_price: 11380.3418 - RMSE_price: 0.0222 - lr: 0.0106\n",
            "Epoch 54/100\n",
            "39/39 [==============================] - 0s 11ms/step - loss: 6.6541e-04 - MAE_price: 0.0156 - MAPE_price: 27.9289 - RMSE_price: 0.0236 - lr: 0.0106\n",
            "Epoch 55/100\n",
            "39/39 [==============================] - 1s 18ms/step - loss: 6.8938e-04 - MAE_price: 0.0152 - MAPE_price: 43.6229 - RMSE_price: 0.0240 - lr: 0.0106\n",
            "Epoch 56/100\n",
            "39/39 [==============================] - 1s 15ms/step - loss: 6.1279e-04 - MAE_price: 0.0138 - MAPE_price: 39.7748 - RMSE_price: 0.0220 - lr: 0.0106\n",
            "Epoch 57/100\n",
            "39/39 [==============================] - 3s 79ms/step - loss: 6.9207e-04 - MAE_price: 0.0159 - MAPE_price: 44.1339 - RMSE_price: 0.0249 - lr: 0.0106\n",
            "Epoch 58/100\n",
            "39/39 [==============================] - 1s 18ms/step - loss: 5.0780e-04 - MAE_price: 0.0132 - MAPE_price: 29.6259 - RMSE_price: 0.0209 - lr: 0.0106\n",
            "Epoch 59/100\n",
            "39/39 [==============================] - 0s 11ms/step - loss: 5.7628e-04 - MAE_price: 0.0137 - MAPE_price: 32.6526 - RMSE_price: 0.0225 - lr: 0.0106\n",
            "Epoch 60/100\n",
            "39/39 [==============================] - 2s 40ms/step - loss: 5.3406e-04 - MAE_price: 0.0130 - MAPE_price: 38.5820 - RMSE_price: 0.0214 - lr: 0.0106\n",
            "Epoch 61/100\n",
            "39/39 [==============================] - 0s 11ms/step - loss: 5.4114e-04 - MAE_price: 0.0140 - MAPE_price: 38.9236 - RMSE_price: 0.0219 - lr: 0.0096\n",
            "Epoch 62/100\n",
            "39/39 [==============================] - 2s 54ms/step - loss: 5.6999e-04 - MAE_price: 0.0142 - MAPE_price: 32.5125 - RMSE_price: 0.0221 - lr: 0.0096\n",
            "Epoch 63/100\n",
            "39/39 [==============================] - 1s 18ms/step - loss: 6.0006e-04 - MAE_price: 0.0146 - MAPE_price: 29.8657 - RMSE_price: 0.0231 - lr: 0.0096\n",
            "Epoch 64/100\n",
            "39/39 [==============================] - 0s 11ms/step - loss: 6.0765e-04 - MAE_price: 0.0129 - MAPE_price: 28.7951 - RMSE_price: 0.0223 - lr: 0.0096\n",
            "Epoch 65/100\n",
            "39/39 [==============================] - 4s 106ms/step - loss: 7.7324e-04 - MAE_price: 0.0161 - MAPE_price: 32.9560 - RMSE_price: 0.0251 - lr: 0.0096\n",
            "Epoch 66/100\n",
            "39/39 [==============================] - 2s 40ms/step - loss: 4.6610e-04 - MAE_price: 0.0125 - MAPE_price: 6544.4175 - RMSE_price: 0.0203 - lr: 0.0096\n",
            "Epoch 67/100\n",
            "39/39 [==============================] - 0s 11ms/step - loss: 4.3133e-04 - MAE_price: 0.0121 - MAPE_price: 35.2749 - RMSE_price: 0.0193 - lr: 0.0096\n",
            "Epoch 68/100\n",
            "39/39 [==============================] - 1s 18ms/step - loss: 4.5860e-04 - MAE_price: 0.0127 - MAPE_price: 33.8901 - RMSE_price: 0.0204 - lr: 0.0096\n",
            "Epoch 69/100\n",
            "39/39 [==============================] - 1s 18ms/step - loss: 4.7855e-04 - MAE_price: 0.0128 - MAPE_price: 34.8475 - RMSE_price: 0.0207 - lr: 0.0096\n",
            "Epoch 70/100\n",
            "39/39 [==============================] - 0s 11ms/step - loss: 5.0174e-04 - MAE_price: 0.0133 - MAPE_price: 33.1005 - RMSE_price: 0.0207 - lr: 0.0096\n",
            "Epoch 71/100\n",
            "39/39 [==============================] - 0s 11ms/step - loss: 5.3473e-04 - MAE_price: 0.0142 - MAPE_price: 30.6711 - RMSE_price: 0.0223 - lr: 0.0086\n",
            "Epoch 72/100\n",
            "39/39 [==============================] - 2s 63ms/step - loss: 4.5055e-04 - MAE_price: 0.0126 - MAPE_price: 22160.2656 - RMSE_price: 0.0198 - lr: 0.0086\n",
            "Epoch 73/100\n",
            "39/39 [==============================] - 0s 12ms/step - loss: 5.0467e-04 - MAE_price: 0.0130 - MAPE_price: 15283.7871 - RMSE_price: 0.0210 - lr: 0.0086\n",
            "Epoch 74/100\n",
            "39/39 [==============================] - 2s 43ms/step - loss: 4.4208e-04 - MAE_price: 0.0125 - MAPE_price: 12150.6113 - RMSE_price: 0.0202 - lr: 0.0086\n",
            "Epoch 75/100\n",
            "39/39 [==============================] - 1s 14ms/step - loss: 5.8055e-04 - MAE_price: 0.0129 - MAPE_price: 31.8560 - RMSE_price: 0.0222 - lr: 0.0086\n",
            "Epoch 76/100\n",
            "39/39 [==============================] - 2s 41ms/step - loss: 5.6456e-04 - MAE_price: 0.0133 - MAPE_price: 34.3325 - RMSE_price: 0.0213 - lr: 0.0086\n",
            "Epoch 77/100\n",
            "39/39 [==============================] - 1s 18ms/step - loss: 5.7041e-04 - MAE_price: 0.0134 - MAPE_price: 32.1155 - RMSE_price: 0.0222 - lr: 0.0086\n"
          ]
        }
      ]
    },
    {
      "cell_type": "code",
      "source": [
        "import matplotlib.pyplot as plt\n",
        "MSE = litecoin_hist.history['loss']\n",
        "MAE = litecoin_hist.history['MAE_price']\n",
        "# Plot MSE\n",
        "plt.plot(MSE, label='Training MSE(loss)')\n",
        "plt.xlabel('Epoch')\n",
        "plt.ylabel('MSE')\n",
        "plt.ylim((0,0.004))\n",
        "plt.legend()\n",
        "plt.show()"
      ],
      "metadata": {
        "colab": {
          "base_uri": "https://localhost:8080/",
          "height": 455
        },
        "id": "K9yfh36mgzF7",
        "outputId": "a456f2ac-27b9-4be3-b3cb-056f2a319cde"
      },
      "execution_count": null,
      "outputs": [
        {
          "output_type": "display_data",
          "data": {
            "text/plain": [
              "<Figure size 640x480 with 1 Axes>"
            ],
            "image/png": "[encoded data removed]"
          },
          "metadata": {}
        }
      ]
    },
    {
      "cell_type": "code",
      "source": [
        "plt.plot(MAE, label='Training MAE')\n",
        "plt.xlabel('Epoch')\n",
        "plt.ylabel('MAE')\n",
        "plt.ylim((0,0.04))\n",
        "plt.legend()\n",
        "plt.show()"
      ],
      "metadata": {
        "colab": {
          "base_uri": "https://localhost:8080/",
          "height": 455
        },
        "id": "17-yej6DBCHn",
        "outputId": "3f06f0f8-a0d8-4738-e24b-389b268321b3"
      },
      "execution_count": null,
      "outputs": [
        {
          "output_type": "display_data",
          "data": {
            "text/plain": [
              "<Figure size 640x480 with 1 Axes>"
            ],
            "image/png": "[encoded data removed]"
          },
          "metadata": {}
        }
      ]
    },
    {
      "cell_type": "code",
      "source": [
        "#one day window(predict 23 of February 2020)\n",
        "litecoin_pred=predict_next_days('drive/MyDrive/litecoin.hdf5',litecoin_test[6:36],window_length=1)\n",
        "litecoin_pred=np.squeeze(np.array(litecoin_pred))\n",
        "price_pred=litecoin_pred[0]\n",
        "real_price=litecoin_test.Price.iloc[-1]\n",
        "#print(f'real_price={real_price},predicted_price={price_pred}')\n",
        "pred_df = litecoin_scaler.inverse_transform(litecoin_pred.reshape(1,-1))\n",
        "# Extract only the first column as it contains the inverse transformed values for price predictions.\n",
        "prediction = np.array(pred_df[:, 0])\n",
        "target_df=litecoin_scaler.inverse_transform(litecoin_test[-1:])\n",
        "target=np.array(target_df[:,0])"
      ],
      "metadata": {
        "colab": {
          "base_uri": "https://localhost:8080/"
        },
        "id": "YgM_UbGfBupe",
        "outputId": "3e544647-4147-4472-eb45-f13eb26d8a4b"
      },
      "execution_count": null,
      "outputs": [
        {
          "output_type": "stream",
          "name": "stdout",
          "text": [
            "1/1 [==============================] - 1s 1s/step\n"
          ]
        }
      ]
    },
    {
      "cell_type": "code",
      "source": [
        "proposed_monero_MSE=tf.metrics.MeanSquaredError()(target,prediction)\n",
        "proposed_monero_MAE=tf.metrics.MeanAbsoluteError()(target,prediction)\n",
        "proposed_monero_RMSE=tf.metrics.RootMeanSquaredError()(target,prediction)\n",
        "proposed_monero_MAPE=tf.metrics.MeanAbsolutePercentageError()(target,prediction)\n",
        "print(f'for one day window(litecoin):MSE={proposed_monero_MSE},MAE={proposed_monero_MAE},MAPE={proposed_monero_MAPE},RMSE={proposed_monero_RMSE}')"
      ],
      "metadata": {
        "colab": {
          "base_uri": "https://localhost:8080/"
        },
        "id": "9HwY7LKWC6SP",
        "outputId": "b0804242-13bd-4d4f-ff7a-473cb77d39ec"
      },
      "execution_count": null,
      "outputs": [
        {
          "output_type": "stream",
          "name": "stdout",
          "text": [
            "for one day window(litecoin):MSE=11.40845012664795,MAE=3.3776397705078125,MAPE=4.2376227378845215,RMSE=3.3776397705078125\n"
          ]
        }
      ]
    },
    {
      "cell_type": "code",
      "source": [
        "#three day window(predict from21 to 23February)\n",
        "litecoin_pred=predict_next_days('drive/MyDrive/litecoin.hdf5',litecoin_test[4:34],window_length=3)\n",
        "litecoin_pred=np.squeeze(np.array(litecoin_pred))\n",
        "pred_df=litecoin_scaler.inverse_transform(litecoin_pred)\n",
        "prediction = np.array(pred_df[:, 0])\n",
        "target_df=litecoin_scaler.inverse_transform(litecoin_test[-3:])\n",
        "target=np.array(target_df[:,0])"
      ],
      "metadata": {
        "colab": {
          "base_uri": "https://localhost:8080/"
        },
        "id": "KOMTAGWIcyZg",
        "outputId": "85bab74f-f1cc-4afa-8f9e-7eae1601d4fb"
      },
      "execution_count": null,
      "outputs": [
        {
          "output_type": "stream",
          "name": "stdout",
          "text": [
            "1/1 [==============================] - 2s 2s/step\n",
            "1/1 [==============================] - 0s 40ms/step\n",
            "1/1 [==============================] - 2s 2s/step\n"
          ]
        }
      ]
    },
    {
      "cell_type": "code",
      "source": [
        "proposed_monero_MSE=tf.metrics.MeanSquaredError()(target,prediction)\n",
        "proposed_monero_MAE=tf.metrics.MeanAbsoluteError()(target,prediction)\n",
        "proposed_monero_RMSE=tf.metrics.RootMeanSquaredError()(target,prediction)\n",
        "proposed_monero_MAPE=tf.metrics.MeanAbsolutePercentageError()(target,prediction)\n",
        "print(f'for three day window(litecoin):MSE={proposed_monero_MSE},MAE={proposed_monero_MAE},MAPE={proposed_monero_MAPE},RMSE={proposed_monero_RMSE}')"
      ],
      "metadata": {
        "colab": {
          "base_uri": "https://localhost:8080/"
        },
        "id": "tkOMrhoEhW3_",
        "outputId": "32e5f4af-a7f9-4766-b85a-7678ff04faf6"
      },
      "execution_count": null,
      "outputs": [
        {
          "output_type": "stream",
          "name": "stdout",
          "text": [
            "for three day window(litecoin):MSE=17.672876358032227,MAE=2.8093643188476562,MAPE=3.563589334487915,RMSE=4.203912258148193\n"
          ]
        }
      ]
    },
    {
      "cell_type": "code",
      "source": [
        "#seven day window(predict from17 to 23 february)\n",
        "litecoin_pred=predict_next_days('drive/MyDrive/litecoin.hdf5',litecoin_test[0:30],window_length=7)\n",
        "litecoin_pred=np.squeeze(np.array(litecoin_pred))\n",
        "pred_df=litecoin_scaler.inverse_transform(litecoin_pred)\n",
        "prediction = np.array(pred_df[:, 0])\n",
        "target_df=litecoin_scaler.inverse_transform(litecoin_test[-7:])\n",
        "target=np.array(target_df[:,0])"
      ],
      "metadata": {
        "colab": {
          "base_uri": "https://localhost:8080/"
        },
        "id": "oMOB0GkQhkaz",
        "outputId": "b7dae3bd-5c8d-4b58-8930-1ba3b556703e"
      },
      "execution_count": null,
      "outputs": [
        {
          "output_type": "stream",
          "name": "stdout",
          "text": [
            "1/1 [==============================] - 1s 700ms/step\n",
            "1/1 [==============================] - 0s 349ms/step\n",
            "1/1 [==============================] - 0s 31ms/step\n",
            "1/1 [==============================] - 0s 36ms/step\n",
            "1/1 [==============================] - 0s 31ms/step\n",
            "1/1 [==============================] - 0s 37ms/step\n",
            "1/1 [==============================] - 0s 33ms/step\n"
          ]
        }
      ]
    },
    {
      "cell_type": "code",
      "source": [
        "proposed_monero_MSE=tf.metrics.MeanSquaredError()(target,prediction)\n",
        "proposed_monero_MAE=tf.metrics.MeanAbsoluteError()(target,prediction)\n",
        "proposed_monero_RMSE=tf.metrics.RootMeanSquaredError()(target,prediction)\n",
        "proposed_monero_MAPE=tf.metrics.MeanAbsolutePercentageError()(target,prediction)\n",
        "print(f'for seven day window(litecoin):MSE={proposed_monero_MSE},MAE={proposed_monero_MAE},MAPE={proposed_monero_MAPE},RMSE={proposed_monero_RMSE}')"
      ],
      "metadata": {
        "colab": {
          "base_uri": "https://localhost:8080/"
        },
        "id": "F-s-4M37iBqi",
        "outputId": "4686696a-77a4-492b-d36c-5ac5ff7a673e"
      },
      "execution_count": null,
      "outputs": [
        {
          "output_type": "stream",
          "name": "stdout",
          "text": [
            "for seven day window(litecoin):MSE=48.334190368652344,MAE=5.896095275878906,MAPE=7.893928050994873,RMSE=6.952279567718506\n"
          ]
        }
      ]
    },
    {
      "cell_type": "markdown",
      "source": [
        "#LSTM model monero"
      ],
      "metadata": {
        "id": "wHlQPpRkMoBo"
      }
    },
    {
      "cell_type": "code",
      "source": [
        "from tensorflow.keras.models import Sequential\n",
        "from keras.layers import Dense,LSTM,Input\n",
        "LSTM_Model=Sequential()\n",
        "LSTM_Model.add(LSTM(50,input_shape=(30,6)))\n",
        "LSTM_Model.add(Dense(6,activation=relu))\n",
        "LSTM_Model.summary()"
      ],
      "metadata": {
        "colab": {
          "base_uri": "https://localhost:8080/"
        },
        "id": "mARRMZmlMqxl",
        "outputId": "997a506d-7b71-48c8-941e-534abdea4028"
      },
      "execution_count": null,
      "outputs": [
        {
          "output_type": "stream",
          "name": "stdout",
          "text": [
            "Model: \"sequential_6\"\n",
            "_________________________________________________________________\n",
            " Layer (type)                Output Shape              Param #   \n",
            "=================================================================\n",
            " lstm_6 (LSTM)               (None, 50)                11400     \n",
            "                                                                 \n",
            " dense_6 (Dense)             (None, 6)                 306       \n",
            "                                                                 \n",
            "=================================================================\n",
            "Total params: 11,706\n",
            "Trainable params: 11,706\n",
            "Non-trainable params: 0\n",
            "_________________________________________________________________\n"
          ]
        }
      ]
    },
    {
      "cell_type": "code",
      "source": [
        "LSTM_Model.compile(optimizer=Adam(learning_rate=0.001),loss=MSE_price,metrics=[MAE_price,MAPE_price,RMSE_price])\n",
        "#lr_schedule=tf.keras.callbacks.LearningRateScheduler(litecoin_scheduler)                                                                                            \n",
        "monero_LSTM_cp = ModelCheckpoint('drive/MyDrive/monero_lstm.hdf5', monitor='MAE_price', mode='min')\n",
        "earlystopping= EarlyStopping(monitor='loss', patience=10, verbose=0, mode='min')\n",
        "monero_lstm_hist=LSTM_Model.fit(monero_x,monero_y,batch_size=32,epochs=100,callbacks=[monero_LSTM_cp])"
      ],
      "metadata": {
        "colab": {
          "base_uri": "https://localhost:8080/"
        },
        "id": "ysMeKHnVQeD3",
        "outputId": "8149f9aa-ded8-4a30-9210-71cd364186cc"
      },
      "execution_count": null,
      "outputs": [
        {
          "output_type": "stream",
          "name": "stdout",
          "text": [
            "Epoch 1/100\n",
            "57/57 [==============================] - 4s 7ms/step - loss: 0.0033 - MAE_price: 0.0291 - MAPE_price: 355.7423 - RMSE_price: 0.0445\n",
            "Epoch 2/100\n",
            "57/57 [==============================] - 0s 7ms/step - loss: 7.1706e-04 - MAE_price: 0.0124 - MAPE_price: 39.6092 - RMSE_price: 0.0248\n",
            "Epoch 3/100\n",
            "57/57 [==============================] - 0s 7ms/step - loss: 6.6457e-04 - MAE_price: 0.0122 - MAPE_price: 70.5794 - RMSE_price: 0.0240\n",
            "Epoch 4/100\n",
            "57/57 [==============================] - 0s 7ms/step - loss: 5.9542e-04 - MAE_price: 0.0117 - MAPE_price: 63.1386 - RMSE_price: 0.0227\n",
            "Epoch 5/100\n",
            "57/57 [==============================] - 0s 7ms/step - loss: 5.3499e-04 - MAE_price: 0.0111 - MAPE_price: 68.7933 - RMSE_price: 0.0212\n",
            "Epoch 6/100\n",
            "57/57 [==============================] - 0s 7ms/step - loss: 4.9235e-04 - MAE_price: 0.0102 - MAPE_price: 40.1952 - RMSE_price: 0.0202\n",
            "Epoch 7/100\n",
            "57/57 [==============================] - 0s 5ms/step - loss: 4.8093e-04 - MAE_price: 0.0102 - MAPE_price: 50.3657 - RMSE_price: 0.0199\n",
            "Epoch 8/100\n",
            "57/57 [==============================] - 0s 5ms/step - loss: 4.5149e-04 - MAE_price: 0.0098 - MAPE_price: 44.3093 - RMSE_price: 0.0192\n",
            "Epoch 9/100\n",
            "57/57 [==============================] - 0s 6ms/step - loss: 4.4870e-04 - MAE_price: 0.0100 - MAPE_price: 49.9791 - RMSE_price: 0.0194\n",
            "Epoch 10/100\n",
            "57/57 [==============================] - 0s 5ms/step - loss: 5.1214e-04 - MAE_price: 0.0109 - MAPE_price: 42.5315 - RMSE_price: 0.0209\n",
            "Epoch 11/100\n",
            "57/57 [==============================] - 0s 5ms/step - loss: 4.5303e-04 - MAE_price: 0.0105 - MAPE_price: 48.5155 - RMSE_price: 0.0194\n",
            "Epoch 12/100\n",
            "57/57 [==============================] - 0s 5ms/step - loss: 4.2676e-04 - MAE_price: 0.0097 - MAPE_price: 48.7029 - RMSE_price: 0.0187\n",
            "Epoch 13/100\n",
            "57/57 [==============================] - 0s 5ms/step - loss: 4.3470e-04 - MAE_price: 0.0097 - MAPE_price: 45.6232 - RMSE_price: 0.0192\n",
            "Epoch 14/100\n",
            "57/57 [==============================] - 0s 6ms/step - loss: 4.3921e-04 - MAE_price: 0.0108 - MAPE_price: 63.8419 - RMSE_price: 0.0197\n",
            "Epoch 15/100\n",
            "57/57 [==============================] - 0s 5ms/step - loss: 4.1860e-04 - MAE_price: 0.0104 - MAPE_price: 65.5979 - RMSE_price: 0.0190\n",
            "Epoch 16/100\n",
            "57/57 [==============================] - 0s 6ms/step - loss: 4.1416e-04 - MAE_price: 0.0098 - MAPE_price: 49.1291 - RMSE_price: 0.0186\n",
            "Epoch 17/100\n",
            "57/57 [==============================] - 0s 6ms/step - loss: 3.8124e-04 - MAE_price: 0.0094 - MAPE_price: 52.3000 - RMSE_price: 0.0177\n",
            "Epoch 18/100\n",
            "57/57 [==============================] - 0s 6ms/step - loss: 4.0183e-04 - MAE_price: 0.0096 - MAPE_price: 55.3961 - RMSE_price: 0.0186\n",
            "Epoch 19/100\n",
            "57/57 [==============================] - 0s 5ms/step - loss: 4.1346e-04 - MAE_price: 0.0108 - MAPE_price: 69.5557 - RMSE_price: 0.0188\n",
            "Epoch 20/100\n",
            "57/57 [==============================] - 0s 6ms/step - loss: 3.9703e-04 - MAE_price: 0.0102 - MAPE_price: 58.0386 - RMSE_price: 0.0184\n",
            "Epoch 21/100\n",
            "57/57 [==============================] - 0s 5ms/step - loss: 4.3297e-04 - MAE_price: 0.0107 - MAPE_price: 68.3806 - RMSE_price: 0.0194\n",
            "Epoch 22/100\n",
            "57/57 [==============================] - 0s 5ms/step - loss: 4.3754e-04 - MAE_price: 0.0107 - MAPE_price: 52.0990 - RMSE_price: 0.0195\n",
            "Epoch 23/100\n",
            "57/57 [==============================] - 0s 5ms/step - loss: 4.0382e-04 - MAE_price: 0.0101 - MAPE_price: 48.8017 - RMSE_price: 0.0181\n",
            "Epoch 24/100\n",
            "57/57 [==============================] - 0s 5ms/step - loss: 3.7146e-04 - MAE_price: 0.0087 - MAPE_price: 34.2977 - RMSE_price: 0.0175\n",
            "Epoch 25/100\n",
            "57/57 [==============================] - 0s 5ms/step - loss: 3.6159e-04 - MAE_price: 0.0086 - MAPE_price: 37.0534 - RMSE_price: 0.0173\n",
            "Epoch 26/100\n",
            "57/57 [==============================] - 0s 5ms/step - loss: 3.9514e-04 - MAE_price: 0.0093 - MAPE_price: 41.1858 - RMSE_price: 0.0179\n",
            "Epoch 27/100\n",
            "57/57 [==============================] - 0s 5ms/step - loss: 3.5396e-04 - MAE_price: 0.0085 - MAPE_price: 34.2725 - RMSE_price: 0.0169\n",
            "Epoch 28/100\n",
            "57/57 [==============================] - 0s 6ms/step - loss: 3.7873e-04 - MAE_price: 0.0085 - MAPE_price: 31.9911 - RMSE_price: 0.0174\n",
            "Epoch 29/100\n",
            "57/57 [==============================] - 0s 5ms/step - loss: 3.3804e-04 - MAE_price: 0.0082 - MAPE_price: 35.4311 - RMSE_price: 0.0165\n",
            "Epoch 30/100\n",
            "57/57 [==============================] - 0s 5ms/step - loss: 3.6092e-04 - MAE_price: 0.0089 - MAPE_price: 55.4040 - RMSE_price: 0.0169\n",
            "Epoch 31/100\n",
            "57/57 [==============================] - 0s 5ms/step - loss: 3.6681e-04 - MAE_price: 0.0089 - MAPE_price: 50.1562 - RMSE_price: 0.0172\n",
            "Epoch 32/100\n",
            "57/57 [==============================] - 0s 5ms/step - loss: 3.5457e-04 - MAE_price: 0.0086 - MAPE_price: 35.2166 - RMSE_price: 0.0165\n",
            "Epoch 33/100\n",
            "57/57 [==============================] - 0s 6ms/step - loss: 3.8102e-04 - MAE_price: 0.0092 - MAPE_price: 43.8032 - RMSE_price: 0.0176\n",
            "Epoch 34/100\n",
            "57/57 [==============================] - 0s 5ms/step - loss: 3.8275e-04 - MAE_price: 0.0102 - MAPE_price: 66.2963 - RMSE_price: 0.0178\n",
            "Epoch 35/100\n",
            "57/57 [==============================] - 0s 5ms/step - loss: 4.0709e-04 - MAE_price: 0.0096 - MAPE_price: 45.6241 - RMSE_price: 0.0176\n",
            "Epoch 36/100\n",
            "57/57 [==============================] - 0s 6ms/step - loss: 3.3244e-04 - MAE_price: 0.0081 - MAPE_price: 38.4093 - RMSE_price: 0.0160\n",
            "Epoch 37/100\n",
            "57/57 [==============================] - 0s 5ms/step - loss: 3.3213e-04 - MAE_price: 0.0085 - MAPE_price: 43.0836 - RMSE_price: 0.0165\n",
            "Epoch 38/100\n",
            "57/57 [==============================] - 0s 7ms/step - loss: 3.3108e-04 - MAE_price: 0.0084 - MAPE_price: 45.9498 - RMSE_price: 0.0161\n",
            "Epoch 39/100\n",
            "57/57 [==============================] - 0s 7ms/step - loss: 3.4034e-04 - MAE_price: 0.0088 - MAPE_price: 46.7969 - RMSE_price: 0.0167\n",
            "Epoch 40/100\n",
            "57/57 [==============================] - 0s 7ms/step - loss: 3.6168e-04 - MAE_price: 0.0100 - MAPE_price: 62.0219 - RMSE_price: 0.0174\n",
            "Epoch 41/100\n",
            "57/57 [==============================] - 0s 7ms/step - loss: 3.4401e-04 - MAE_price: 0.0092 - MAPE_price: 57.5669 - RMSE_price: 0.0170\n",
            "Epoch 42/100\n",
            "57/57 [==============================] - 0s 7ms/step - loss: 3.6078e-04 - MAE_price: 0.0088 - MAPE_price: 38.3621 - RMSE_price: 0.0170\n",
            "Epoch 43/100\n",
            "57/57 [==============================] - 0s 7ms/step - loss: 3.2461e-04 - MAE_price: 0.0086 - MAPE_price: 50.2508 - RMSE_price: 0.0158\n",
            "Epoch 44/100\n",
            "57/57 [==============================] - 0s 7ms/step - loss: 3.3896e-04 - MAE_price: 0.0094 - MAPE_price: 63.4656 - RMSE_price: 0.0166\n",
            "Epoch 45/100\n",
            "57/57 [==============================] - 0s 7ms/step - loss: 3.5470e-04 - MAE_price: 0.0085 - MAPE_price: 37.4041 - RMSE_price: 0.0166\n",
            "Epoch 46/100\n",
            "57/57 [==============================] - 0s 7ms/step - loss: 3.3856e-04 - MAE_price: 0.0086 - MAPE_price: 55.6814 - RMSE_price: 0.0167\n",
            "Epoch 47/100\n",
            "57/57 [==============================] - 0s 6ms/step - loss: 3.2199e-04 - MAE_price: 0.0078 - MAPE_price: 28.0491 - RMSE_price: 0.0161\n",
            "Epoch 48/100\n",
            "57/57 [==============================] - 0s 6ms/step - loss: 3.3612e-04 - MAE_price: 0.0088 - MAPE_price: 42.1083 - RMSE_price: 0.0167\n",
            "Epoch 49/100\n",
            "57/57 [==============================] - 0s 5ms/step - loss: 3.3465e-04 - MAE_price: 0.0081 - MAPE_price: 41.2781 - RMSE_price: 0.0161\n",
            "Epoch 50/100\n",
            "57/57 [==============================] - 0s 5ms/step - loss: 3.3485e-04 - MAE_price: 0.0083 - MAPE_price: 52.6853 - RMSE_price: 0.0165\n",
            "Epoch 51/100\n",
            "57/57 [==============================] - 0s 5ms/step - loss: 3.0639e-04 - MAE_price: 0.0081 - MAPE_price: 43.4521 - RMSE_price: 0.0157\n",
            "Epoch 52/100\n",
            "57/57 [==============================] - 0s 6ms/step - loss: 3.1200e-04 - MAE_price: 0.0082 - MAPE_price: 41.8160 - RMSE_price: 0.0159\n",
            "Epoch 53/100\n",
            "57/57 [==============================] - 0s 6ms/step - loss: 3.3115e-04 - MAE_price: 0.0086 - MAPE_price: 41.5431 - RMSE_price: 0.0164\n",
            "Epoch 54/100\n",
            "57/57 [==============================] - 0s 6ms/step - loss: 3.5374e-04 - MAE_price: 0.0091 - MAPE_price: 54.3401 - RMSE_price: 0.0170\n",
            "Epoch 55/100\n",
            "57/57 [==============================] - 0s 6ms/step - loss: 3.3375e-04 - MAE_price: 0.0090 - MAPE_price: 51.7583 - RMSE_price: 0.0167\n",
            "Epoch 56/100\n",
            "57/57 [==============================] - 0s 6ms/step - loss: 3.0295e-04 - MAE_price: 0.0077 - MAPE_price: 35.3566 - RMSE_price: 0.0155\n",
            "Epoch 57/100\n",
            "57/57 [==============================] - 0s 6ms/step - loss: 3.1922e-04 - MAE_price: 0.0084 - MAPE_price: 55.3921 - RMSE_price: 0.0160\n",
            "Epoch 58/100\n",
            "57/57 [==============================] - 0s 6ms/step - loss: 2.9872e-04 - MAE_price: 0.0073 - MAPE_price: 28.9249 - RMSE_price: 0.0153\n",
            "Epoch 59/100\n",
            "57/57 [==============================] - 0s 6ms/step - loss: 3.0717e-04 - MAE_price: 0.0079 - MAPE_price: 41.0984 - RMSE_price: 0.0159\n",
            "Epoch 60/100\n",
            "57/57 [==============================] - 0s 5ms/step - loss: 3.1477e-04 - MAE_price: 0.0081 - MAPE_price: 48.1343 - RMSE_price: 0.0160\n",
            "Epoch 61/100\n",
            "57/57 [==============================] - 0s 5ms/step - loss: 3.0486e-04 - MAE_price: 0.0079 - MAPE_price: 41.9809 - RMSE_price: 0.0154\n",
            "Epoch 62/100\n",
            "57/57 [==============================] - 0s 5ms/step - loss: 3.3051e-04 - MAE_price: 0.0083 - MAPE_price: 43.8921 - RMSE_price: 0.0161\n",
            "Epoch 63/100\n",
            "57/57 [==============================] - 0s 5ms/step - loss: 3.3041e-04 - MAE_price: 0.0088 - MAPE_price: 49.8676 - RMSE_price: 0.0167\n",
            "Epoch 64/100\n",
            "57/57 [==============================] - 0s 5ms/step - loss: 3.0232e-04 - MAE_price: 0.0074 - MAPE_price: 29.6629 - RMSE_price: 0.0156\n",
            "Epoch 65/100\n",
            "57/57 [==============================] - 0s 6ms/step - loss: 3.0347e-04 - MAE_price: 0.0075 - MAPE_price: 31.0230 - RMSE_price: 0.0157\n",
            "Epoch 66/100\n",
            "57/57 [==============================] - 0s 6ms/step - loss: 3.4756e-04 - MAE_price: 0.0096 - MAPE_price: 55.4470 - RMSE_price: 0.0171\n",
            "Epoch 67/100\n",
            "57/57 [==============================] - 0s 5ms/step - loss: 3.2065e-04 - MAE_price: 0.0081 - MAPE_price: 44.1757 - RMSE_price: 0.0158\n",
            "Epoch 68/100\n",
            "57/57 [==============================] - 0s 6ms/step - loss: 3.0491e-04 - MAE_price: 0.0082 - MAPE_price: 44.9576 - RMSE_price: 0.0156\n",
            "Epoch 69/100\n",
            "57/57 [==============================] - 0s 5ms/step - loss: 3.0177e-04 - MAE_price: 0.0077 - MAPE_price: 43.2626 - RMSE_price: 0.0155\n",
            "Epoch 70/100\n",
            "57/57 [==============================] - 0s 5ms/step - loss: 3.2179e-04 - MAE_price: 0.0079 - MAPE_price: 33.3864 - RMSE_price: 0.0159\n",
            "Epoch 71/100\n",
            "57/57 [==============================] - 0s 6ms/step - loss: 3.1962e-04 - MAE_price: 0.0087 - MAPE_price: 56.0541 - RMSE_price: 0.0161\n",
            "Epoch 72/100\n",
            "57/57 [==============================] - 0s 5ms/step - loss: 3.0620e-04 - MAE_price: 0.0075 - MAPE_price: 30.3929 - RMSE_price: 0.0154\n",
            "Epoch 73/100\n",
            "57/57 [==============================] - 0s 5ms/step - loss: 3.0429e-04 - MAE_price: 0.0082 - MAPE_price: 40.4564 - RMSE_price: 0.0158\n",
            "Epoch 74/100\n",
            "57/57 [==============================] - 0s 5ms/step - loss: 3.1178e-04 - MAE_price: 0.0082 - MAPE_price: 42.2108 - RMSE_price: 0.0156\n",
            "Epoch 75/100\n",
            "57/57 [==============================] - 0s 5ms/step - loss: 3.1795e-04 - MAE_price: 0.0080 - MAPE_price: 39.6086 - RMSE_price: 0.0160\n",
            "Epoch 76/100\n",
            "57/57 [==============================] - 0s 5ms/step - loss: 3.0868e-04 - MAE_price: 0.0086 - MAPE_price: 59.4491 - RMSE_price: 0.0160\n",
            "Epoch 77/100\n",
            "57/57 [==============================] - 0s 6ms/step - loss: 3.1996e-04 - MAE_price: 0.0080 - MAPE_price: 39.1314 - RMSE_price: 0.0160\n",
            "Epoch 78/100\n",
            "57/57 [==============================] - 0s 7ms/step - loss: 2.9913e-04 - MAE_price: 0.0077 - MAPE_price: 43.2760 - RMSE_price: 0.0155\n",
            "Epoch 79/100\n",
            "57/57 [==============================] - 0s 7ms/step - loss: 3.1104e-04 - MAE_price: 0.0081 - MAPE_price: 46.9380 - RMSE_price: 0.0158\n",
            "Epoch 80/100\n",
            "57/57 [==============================] - 0s 7ms/step - loss: 3.0983e-04 - MAE_price: 0.0080 - MAPE_price: 40.9319 - RMSE_price: 0.0156\n",
            "Epoch 81/100\n",
            "57/57 [==============================] - 0s 7ms/step - loss: 3.0000e-04 - MAE_price: 0.0074 - MAPE_price: 32.5728 - RMSE_price: 0.0152\n",
            "Epoch 82/100\n",
            "57/57 [==============================] - 0s 7ms/step - loss: 3.0146e-04 - MAE_price: 0.0076 - MAPE_price: 38.2202 - RMSE_price: 0.0155\n",
            "Epoch 83/100\n",
            "57/57 [==============================] - 0s 7ms/step - loss: 3.1649e-04 - MAE_price: 0.0089 - MAPE_price: 63.0141 - RMSE_price: 0.0162\n",
            "Epoch 84/100\n",
            "57/57 [==============================] - 1s 15ms/step - loss: 3.0965e-04 - MAE_price: 0.0078 - MAPE_price: 38.8254 - RMSE_price: 0.0157\n",
            "Epoch 85/100\n",
            "57/57 [==============================] - 1s 16ms/step - loss: 3.1499e-04 - MAE_price: 0.0082 - MAPE_price: 43.1083 - RMSE_price: 0.0155\n",
            "Epoch 86/100\n",
            "57/57 [==============================] - 1s 9ms/step - loss: 3.0367e-04 - MAE_price: 0.0081 - MAPE_price: 52.6099 - RMSE_price: 0.0152\n",
            "Epoch 87/100\n",
            "57/57 [==============================] - 1s 9ms/step - loss: 3.1210e-04 - MAE_price: 0.0083 - MAPE_price: 54.4543 - RMSE_price: 0.0156\n",
            "Epoch 88/100\n",
            "57/57 [==============================] - 0s 6ms/step - loss: 3.1066e-04 - MAE_price: 0.0085 - MAPE_price: 50.9582 - RMSE_price: 0.0161\n",
            "Epoch 89/100\n",
            "57/57 [==============================] - 1s 9ms/step - loss: 2.9086e-04 - MAE_price: 0.0074 - MAPE_price: 41.2850 - RMSE_price: 0.0151\n",
            "Epoch 90/100\n",
            "57/57 [==============================] - 1s 9ms/step - loss: 2.9593e-04 - MAE_price: 0.0076 - MAPE_price: 39.2884 - RMSE_price: 0.0154\n",
            "Epoch 91/100\n",
            "57/57 [==============================] - 0s 6ms/step - loss: 3.0523e-04 - MAE_price: 0.0078 - MAPE_price: 30.5359 - RMSE_price: 0.0153\n",
            "Epoch 92/100\n",
            "57/57 [==============================] - 0s 8ms/step - loss: 3.1539e-04 - MAE_price: 0.0086 - MAPE_price: 56.4636 - RMSE_price: 0.0161\n",
            "Epoch 93/100\n",
            "57/57 [==============================] - 1s 9ms/step - loss: 2.9565e-04 - MAE_price: 0.0082 - MAPE_price: 58.5153 - RMSE_price: 0.0154\n",
            "Epoch 94/100\n",
            "57/57 [==============================] - 1s 11ms/step - loss: 3.0539e-04 - MAE_price: 0.0075 - MAPE_price: 29.3008 - RMSE_price: 0.0154\n",
            "Epoch 95/100\n",
            "57/57 [==============================] - 0s 8ms/step - loss: 3.0858e-04 - MAE_price: 0.0081 - MAPE_price: 45.7377 - RMSE_price: 0.0158\n",
            "Epoch 96/100\n",
            "57/57 [==============================] - 1s 10ms/step - loss: 2.9912e-04 - MAE_price: 0.0080 - MAPE_price: 51.4759 - RMSE_price: 0.0156\n",
            "Epoch 97/100\n",
            "57/57 [==============================] - 1s 10ms/step - loss: 3.0359e-04 - MAE_price: 0.0085 - MAPE_price: 59.7225 - RMSE_price: 0.0155\n",
            "Epoch 98/100\n",
            "57/57 [==============================] - 1s 12ms/step - loss: 3.1680e-04 - MAE_price: 0.0083 - MAPE_price: 40.9258 - RMSE_price: 0.0158\n",
            "Epoch 99/100\n",
            "57/57 [==============================] - 1s 12ms/step - loss: 2.9477e-04 - MAE_price: 0.0074 - MAPE_price: 30.9167 - RMSE_price: 0.0152\n",
            "Epoch 100/100\n",
            "57/57 [==============================] - 1s 9ms/step - loss: 3.1624e-04 - MAE_price: 0.0086 - MAPE_price: 52.2975 - RMSE_price: 0.0164\n"
          ]
        }
      ]
    },
    {
      "cell_type": "code",
      "source": [
        "import matplotlib.pyplot as plt\n",
        "MSE = monero_lstm_hist.history['loss']\n",
        "MAE = monero_lstm_hist.history['MAE_price']\n",
        "plt.plot(MSE, label='Training MSE(loss)')\n",
        "plt.xlabel('Epoch')\n",
        "plt.ylabel('MSE')\n",
        "plt.ylim((0,0.001))\n",
        "plt.legend()\n",
        "plt.show()"
      ],
      "metadata": {
        "colab": {
          "base_uri": "https://localhost:8080/",
          "height": 455
        },
        "id": "rsgBlypERTy1",
        "outputId": "fec2c951-9d61-4fad-d912-a36261869378"
      },
      "execution_count": null,
      "outputs": [
        {
          "output_type": "display_data",
          "data": {
            "text/plain": [
              "<Figure size 640x480 with 1 Axes>"
            ],
            "image/png": "[encoded data removed]"
          },
          "metadata": {}
        }
      ]
    },
    {
      "cell_type": "code",
      "source": [
        "plt.plot(MAE, label='Training MAE')\n",
        "plt.xlabel('Epoch')\n",
        "plt.ylabel('MAE')\n",
        "plt.ylim((0,0.015))\n",
        "plt.legend()\n",
        "plt.show()"
      ],
      "metadata": {
        "colab": {
          "base_uri": "https://localhost:8080/",
          "height": 449
        },
        "id": "T1efbKzdWGOn",
        "outputId": "838db4d8-f7cd-4ba9-f1d8-c89698565f7e"
      },
      "execution_count": null,
      "outputs": [
        {
          "output_type": "display_data",
          "data": {
            "text/plain": [
              "<Figure size 640x480 with 1 Axes>"
            ],
            "image/png": "[encoded data removed]"
          },
          "metadata": {}
        }
      ]
    },
    {
      "cell_type": "code",
      "source": [
        "def predict_next_days_LSTM(weights_path,monero_test_input,window_length=7):\n",
        "  LSTM_Model.load_weights(weights_path)\n",
        "  monero_test_input=np.array(monero_test_input)\n",
        "  predicted_days=[]\n",
        "  for i in range(window_length):\n",
        "    if i!=0:\n",
        "      monero_test_input=np.append(monero_test_input[i:],day,axis=0)\n",
        "    day=LSTM_Model.predict(tf.expand_dims(monero_test_input,axis=0))\n",
        "    predicted_days.append(day)\n",
        "  return predicted_days"
      ],
      "metadata": {
        "id": "_o5re4T8TBlA"
      },
      "execution_count": null,
      "outputs": []
    },
    {
      "cell_type": "code",
      "source": [
        "#one day window(predict 23 of February 2020)\n",
        "monero_pred=predict_next_days_LSTM('drive/MyDrive/monero_lstm.hdf5',monero_test[6:36],window_length=1)\n",
        "monero_pred=np.squeeze(np.array(monero_pred))\n",
        "price_pred=monero_pred[0]\n",
        "real_price=monero_test.Price.iloc[-1]\n",
        "#print(f'real_price={real_price},predicted_price={price_pred}')\n",
        "pred_df = monero_scaler.inverse_transform(monero_pred.reshape(1,-1))\n",
        "# Extract only the first column as it contains the inverse transformed values for price predictions.\n",
        "prediction = np.array(pred_df[:, 0])\n",
        "target_df=monero_scaler.inverse_transform(monero_test[-1:])\n",
        "target=np.array(target_df[:,0])"
      ],
      "metadata": {
        "colab": {
          "base_uri": "https://localhost:8080/"
        },
        "id": "5y79GfR4SNW9",
        "outputId": "0b00ca1c-ce75-4d6a-fd11-08935f52e4b8"
      },
      "execution_count": null,
      "outputs": [
        {
          "output_type": "stream",
          "name": "stdout",
          "text": [
            "1/1 [==============================] - 0s 367ms/step\n"
          ]
        }
      ]
    },
    {
      "cell_type": "code",
      "source": [
        "lstm_monero_MSE=tf.metrics.MeanSquaredError()(target,prediction)\n",
        "lstm_monero_MAE=tf.metrics.MeanAbsoluteError()(target,prediction)\n",
        "lstm_monero_RMSE=tf.metrics.RootMeanSquaredError()(target,prediction)\n",
        "lstm_monero_MAPE=tf.metrics.MeanAbsolutePercentageError()(target,prediction)\n",
        "print(f'for one day window(monero):MSE={lstm_monero_MSE},MAE={lstm_monero_MAE},MAPE={lstm_monero_MAPE},RMSE={lstm_monero_RMSE}')"
      ],
      "metadata": {
        "colab": {
          "base_uri": "https://localhost:8080/"
        },
        "id": "38oBuRiTT3rH",
        "outputId": "bf830df5-cf48-4540-c5f5-15906499ce02"
      },
      "execution_count": null,
      "outputs": [
        {
          "output_type": "stream",
          "name": "stdout",
          "text": [
            "for one day window(monero):MSE=55.70350646972656,MAE=7.463478088378906,MAPE=8.746707916259766,RMSE=7.463478088378906\n"
          ]
        }
      ]
    },
    {
      "cell_type": "code",
      "source": [
        "#three day window(predict from21 to 23February)\n",
        "monero_pred=predict_next_days_LSTM('drive/MyDrive/monero_lstm.hdf5',monero_test[4:34],window_length=3)\n",
        "monero_pred=np.squeeze(np.array(monero_pred))\n",
        "pred_df=monero_scaler.inverse_transform(monero_pred)\n",
        "prediction = np.array(pred_df[:, 0])\n",
        "target_df=monero_scaler.inverse_transform(monero_test[-3:])\n",
        "target=np.array(target_df[:,0])"
      ],
      "metadata": {
        "colab": {
          "base_uri": "https://localhost:8080/"
        },
        "id": "u4Y-YGEgURDD",
        "outputId": "79b5e3f5-313e-42f3-dcb8-4398af1c9ffd"
      },
      "execution_count": null,
      "outputs": [
        {
          "output_type": "stream",
          "name": "stdout",
          "text": [
            "1/1 [==============================] - 0s 20ms/step\n",
            "1/1 [==============================] - 0s 20ms/step\n",
            "1/1 [==============================] - 0s 329ms/step\n"
          ]
        }
      ]
    },
    {
      "cell_type": "code",
      "source": [
        "lstm_monero_MSE=tf.metrics.MeanSquaredError()(target,prediction)\n",
        "lstm_monero_MAE=tf.metrics.MeanAbsoluteError()(target,prediction)\n",
        "lstm_monero_RMSE=tf.metrics.RootMeanSquaredError()(target,prediction)\n",
        "lstm_monero_MAPE=tf.metrics.MeanAbsolutePercentageError()(target,prediction)\n",
        "print(f'for three day window(monero):MSE={lstm_monero_MSE},MAE={lstm_monero_MAE},MAPE={lstm_monero_MAPE},RMSE={lstm_monero_RMSE}')"
      ],
      "metadata": {
        "colab": {
          "base_uri": "https://localhost:8080/"
        },
        "id": "lLo9STDuUzNq",
        "outputId": "33924691-453e-4092-8bf8-2b663744b761"
      },
      "execution_count": null,
      "outputs": [
        {
          "output_type": "stream",
          "name": "stdout",
          "text": [
            "for three day window(monero):MSE=222.58734130859375,MAE=13.118376731872559,MAPE=15.88123607635498,RMSE=14.919361114501953\n"
          ]
        }
      ]
    },
    {
      "cell_type": "code",
      "source": [
        "#seven day window(predict from17 to 23 february)\n",
        "monero_pred=predict_next_days_LSTM('drive/MyDrive/monero_lstm.hdf5',monero_test[0:30],window_length=7)\n",
        "monero_pred=np.squeeze(np.array(monero_pred))\n",
        "pred_df=monero_scaler.inverse_transform(monero_pred)\n",
        "prediction = np.array(pred_df[:, 0])\n",
        "target_df=monero_scaler.inverse_transform(monero_test[-7:])\n",
        "target=np.array(target_df[:,0])"
      ],
      "metadata": {
        "colab": {
          "base_uri": "https://localhost:8080/"
        },
        "id": "hsPRDNnOU7U0",
        "outputId": "02242a7f-a0a8-4171-9713-fb09228a16d5"
      },
      "execution_count": null,
      "outputs": [
        {
          "output_type": "stream",
          "name": "stdout",
          "text": [
            "1/1 [==============================] - 0s 34ms/step\n",
            "1/1 [==============================] - 0s 32ms/step\n",
            "1/1 [==============================] - 0s 32ms/step\n",
            "1/1 [==============================] - 0s 29ms/step\n",
            "1/1 [==============================] - 0s 50ms/step\n",
            "1/1 [==============================] - 0s 35ms/step\n",
            "1/1 [==============================] - 0s 36ms/step\n"
          ]
        }
      ]
    },
    {
      "cell_type": "code",
      "source": [
        "lstm_monero_MSE=tf.metrics.MeanSquaredError()(target,prediction)\n",
        "lstm_monero_MAE=tf.metrics.MeanAbsoluteError()(target,prediction)\n",
        "lstm_monero_RMSE=tf.metrics.RootMeanSquaredError()(target,prediction)\n",
        "lstm_monero_MAPE=tf.metrics.MeanAbsolutePercentageError()(target,prediction)\n",
        "print(f'for seven day window(monero):MSE={lstm_monero_MSE},MAE={lstm_monero_MAE},MAPE={lstm_monero_MAPE},RMSE={lstm_monero_RMSE}')"
      ],
      "metadata": {
        "colab": {
          "base_uri": "https://localhost:8080/"
        },
        "id": "FaXrQuGvVWI-",
        "outputId": "c68c95f8-7e12-4cbb-d9b9-19261beb6806"
      },
      "execution_count": null,
      "outputs": [
        {
          "output_type": "stream",
          "name": "stdout",
          "text": [
            "for seven day window(monero):MSE=270.1586608886719,MAE=15.190495491027832,MAPE=18.69815444946289,RMSE=16.436504364013672\n"
          ]
        }
      ]
    },
    {
      "cell_type": "markdown",
      "source": [
        "#LSTM Model litecoin"
      ],
      "metadata": {
        "id": "yxO5uhx2Vx3J"
      }
    },
    {
      "cell_type": "code",
      "source": [
        "from tensorflow.keras.models import Sequential\n",
        "from keras.layers import Dense,LSTM,Input\n",
        "LSTM_Model=Sequential()\n",
        "LSTM_Model.add(LSTM(50,input_shape=(30,6)))\n",
        "LSTM_Model.add(Dense(6,activation=relu))\n",
        "LSTM_Model.summary()"
      ],
      "metadata": {
        "colab": {
          "base_uri": "https://localhost:8080/"
        },
        "id": "ns1JR5rDXAE9",
        "outputId": "c91d9c97-ea33-41e6-89cb-d72cc4272d62"
      },
      "execution_count": null,
      "outputs": [
        {
          "output_type": "stream",
          "name": "stdout",
          "text": [
            "Model: \"sequential_7\"\n",
            "_________________________________________________________________\n",
            " Layer (type)                Output Shape              Param #   \n",
            "=================================================================\n",
            " lstm_7 (LSTM)               (None, 50)                11400     \n",
            "                                                                 \n",
            " dense_7 (Dense)             (None, 6)                 306       \n",
            "                                                                 \n",
            "=================================================================\n",
            "Total params: 11,706\n",
            "Trainable params: 11,706\n",
            "Non-trainable params: 0\n",
            "_________________________________________________________________\n"
          ]
        }
      ]
    },
    {
      "cell_type": "code",
      "source": [
        "LSTM_Model.compile(optimizer=Adam(learning_rate=0.001),loss=MSE_price,metrics=[MAE_price,MAPE_price,RMSE_price])\n",
        "#lr_schedule=tf.keras.callbacks.LearningRateScheduler(litecoin_scheduler)                                                                                            \n",
        "litecoin_LSTM_cp = ModelCheckpoint('drive/MyDrive/litecoin_lstm.hdf5', monitor='MAE_price', mode='min')\n",
        "#earlystopping= EarlyStopping(monitor='loss', patience=10, verbose=0, mode='min')\n",
        "litecoin_lstm_hist=LSTM_Model.fit(monero_x,monero_y,batch_size=32,epochs=100,callbacks=[litecoin_LSTM_cp])"
      ],
      "metadata": {
        "colab": {
          "base_uri": "https://localhost:8080/"
        },
        "outputId": "eac8b8e9-70f0-43cf-82d9-956e15e5d99a",
        "id": "SJVhdfY2V8T5"
      },
      "execution_count": null,
      "outputs": [
        {
          "output_type": "stream",
          "name": "stdout",
          "text": [
            "Epoch 1/100\n",
            "57/57 [==============================] - 3s 11ms/step - loss: 0.0071 - MAE_price: 0.0444 - MAPE_price: 604.1456 - RMSE_price: 0.0666\n",
            "Epoch 2/100\n",
            "57/57 [==============================] - 0s 5ms/step - loss: 7.9489e-04 - MAE_price: 0.0138 - MAPE_price: 73.0869 - RMSE_price: 0.0261\n",
            "Epoch 3/100\n",
            "57/57 [==============================] - 0s 5ms/step - loss: 6.7758e-04 - MAE_price: 0.0124 - MAPE_price: 45.0611 - RMSE_price: 0.0241\n",
            "Epoch 4/100\n",
            "57/57 [==============================] - 0s 6ms/step - loss: 6.1699e-04 - MAE_price: 0.0126 - MAPE_price: 45.2746 - RMSE_price: 0.0234\n",
            "Epoch 5/100\n",
            "57/57 [==============================] - 0s 6ms/step - loss: 5.9181e-04 - MAE_price: 0.0126 - MAPE_price: 66.7972 - RMSE_price: 0.0230\n",
            "Epoch 6/100\n",
            "57/57 [==============================] - 0s 5ms/step - loss: 6.4106e-04 - MAE_price: 0.0127 - MAPE_price: 64.2023 - RMSE_price: 0.0235\n",
            "Epoch 7/100\n",
            "57/57 [==============================] - 0s 6ms/step - loss: 5.2117e-04 - MAE_price: 0.0109 - MAPE_price: 56.3799 - RMSE_price: 0.0212\n",
            "Epoch 8/100\n",
            "57/57 [==============================] - 0s 5ms/step - loss: 4.7804e-04 - MAE_price: 0.0106 - MAPE_price: 38.5990 - RMSE_price: 0.0202\n",
            "Epoch 9/100\n",
            "57/57 [==============================] - 0s 6ms/step - loss: 4.3761e-04 - MAE_price: 0.0098 - MAPE_price: 44.2750 - RMSE_price: 0.0193\n",
            "Epoch 10/100\n",
            "57/57 [==============================] - 0s 5ms/step - loss: 4.4753e-04 - MAE_price: 0.0101 - MAPE_price: 59.9762 - RMSE_price: 0.0195\n",
            "Epoch 11/100\n",
            "57/57 [==============================] - 0s 6ms/step - loss: 4.2640e-04 - MAE_price: 0.0098 - MAPE_price: 34.6823 - RMSE_price: 0.0189\n",
            "Epoch 12/100\n",
            "57/57 [==============================] - 0s 6ms/step - loss: 4.1304e-04 - MAE_price: 0.0100 - MAPE_price: 60.2243 - RMSE_price: 0.0186\n",
            "Epoch 13/100\n",
            "57/57 [==============================] - 0s 6ms/step - loss: 3.9577e-04 - MAE_price: 0.0090 - MAPE_price: 38.3237 - RMSE_price: 0.0179\n",
            "Epoch 14/100\n",
            "57/57 [==============================] - 0s 6ms/step - loss: 3.7599e-04 - MAE_price: 0.0086 - MAPE_price: 31.9375 - RMSE_price: 0.0175\n",
            "Epoch 15/100\n",
            "57/57 [==============================] - 0s 6ms/step - loss: 4.0424e-04 - MAE_price: 0.0092 - MAPE_price: 45.9039 - RMSE_price: 0.0180\n",
            "Epoch 16/100\n",
            "57/57 [==============================] - 0s 6ms/step - loss: 4.9403e-04 - MAE_price: 0.0112 - MAPE_price: 56.5843 - RMSE_price: 0.0204\n",
            "Epoch 17/100\n",
            "57/57 [==============================] - 0s 6ms/step - loss: 3.9577e-04 - MAE_price: 0.0093 - MAPE_price: 38.3104 - RMSE_price: 0.0179\n",
            "Epoch 18/100\n",
            "57/57 [==============================] - 0s 6ms/step - loss: 3.6800e-04 - MAE_price: 0.0087 - MAPE_price: 53.8317 - RMSE_price: 0.0172\n",
            "Epoch 19/100\n",
            "57/57 [==============================] - 0s 5ms/step - loss: 3.5745e-04 - MAE_price: 0.0090 - MAPE_price: 47.1624 - RMSE_price: 0.0171\n",
            "Epoch 20/100\n",
            "57/57 [==============================] - 0s 7ms/step - loss: 3.6527e-04 - MAE_price: 0.0094 - MAPE_price: 56.2272 - RMSE_price: 0.0176\n",
            "Epoch 21/100\n",
            "57/57 [==============================] - 0s 7ms/step - loss: 3.5353e-04 - MAE_price: 0.0091 - MAPE_price: 50.1307 - RMSE_price: 0.0172\n",
            "Epoch 22/100\n",
            "57/57 [==============================] - 0s 8ms/step - loss: 3.8753e-04 - MAE_price: 0.0091 - MAPE_price: 54.6873 - RMSE_price: 0.0175\n",
            "Epoch 23/100\n",
            "57/57 [==============================] - 0s 7ms/step - loss: 3.6135e-04 - MAE_price: 0.0094 - MAPE_price: 58.1983 - RMSE_price: 0.0171\n",
            "Epoch 24/100\n",
            "57/57 [==============================] - 0s 7ms/step - loss: 3.3568e-04 - MAE_price: 0.0088 - MAPE_price: 53.4369 - RMSE_price: 0.0165\n",
            "Epoch 25/100\n",
            "57/57 [==============================] - 0s 8ms/step - loss: 3.3474e-04 - MAE_price: 0.0086 - MAPE_price: 48.3423 - RMSE_price: 0.0166\n",
            "Epoch 26/100\n",
            "57/57 [==============================] - 0s 7ms/step - loss: 3.2827e-04 - MAE_price: 0.0081 - MAPE_price: 43.7045 - RMSE_price: 0.0162\n",
            "Epoch 27/100\n",
            "57/57 [==============================] - 0s 7ms/step - loss: 3.2639e-04 - MAE_price: 0.0081 - MAPE_price: 34.8125 - RMSE_price: 0.0160\n",
            "Epoch 28/100\n",
            "57/57 [==============================] - 0s 7ms/step - loss: 3.3620e-04 - MAE_price: 0.0086 - MAPE_price: 43.9936 - RMSE_price: 0.0165\n",
            "Epoch 29/100\n",
            "57/57 [==============================] - 0s 6ms/step - loss: 3.1607e-04 - MAE_price: 0.0079 - MAPE_price: 30.2827 - RMSE_price: 0.0160\n",
            "Epoch 30/100\n",
            "57/57 [==============================] - 0s 6ms/step - loss: 3.4804e-04 - MAE_price: 0.0088 - MAPE_price: 59.1660 - RMSE_price: 0.0167\n",
            "Epoch 31/100\n",
            "57/57 [==============================] - 0s 5ms/step - loss: 4.2024e-04 - MAE_price: 0.0107 - MAPE_price: 71.7841 - RMSE_price: 0.0183\n",
            "Epoch 32/100\n",
            "57/57 [==============================] - 0s 5ms/step - loss: 3.3825e-04 - MAE_price: 0.0088 - MAPE_price: 44.9767 - RMSE_price: 0.0165\n",
            "Epoch 33/100\n",
            "57/57 [==============================] - 0s 6ms/step - loss: 3.1547e-04 - MAE_price: 0.0081 - MAPE_price: 46.4568 - RMSE_price: 0.0158\n",
            "Epoch 34/100\n",
            "57/57 [==============================] - 0s 6ms/step - loss: 3.4283e-04 - MAE_price: 0.0086 - MAPE_price: 41.8617 - RMSE_price: 0.0166\n",
            "Epoch 35/100\n",
            "57/57 [==============================] - 0s 6ms/step - loss: 4.0152e-04 - MAE_price: 0.0104 - MAPE_price: 70.5298 - RMSE_price: 0.0180\n",
            "Epoch 36/100\n",
            "57/57 [==============================] - 0s 6ms/step - loss: 3.0492e-04 - MAE_price: 0.0079 - MAPE_price: 39.5972 - RMSE_price: 0.0157\n",
            "Epoch 37/100\n",
            "57/57 [==============================] - 0s 5ms/step - loss: 3.1594e-04 - MAE_price: 0.0079 - MAPE_price: 37.4845 - RMSE_price: 0.0159\n",
            "Epoch 38/100\n",
            "57/57 [==============================] - 0s 5ms/step - loss: 3.4485e-04 - MAE_price: 0.0093 - MAPE_price: 51.0915 - RMSE_price: 0.0168\n",
            "Epoch 39/100\n",
            "57/57 [==============================] - 0s 5ms/step - loss: 3.4340e-04 - MAE_price: 0.0094 - MAPE_price: 62.8677 - RMSE_price: 0.0169\n",
            "Epoch 40/100\n",
            "57/57 [==============================] - 0s 6ms/step - loss: 3.1530e-04 - MAE_price: 0.0081 - MAPE_price: 46.8897 - RMSE_price: 0.0160\n",
            "Epoch 41/100\n",
            "57/57 [==============================] - 0s 5ms/step - loss: 3.0189e-04 - MAE_price: 0.0076 - MAPE_price: 30.9473 - RMSE_price: 0.0151\n",
            "Epoch 42/100\n",
            "57/57 [==============================] - 0s 5ms/step - loss: 3.4017e-04 - MAE_price: 0.0086 - MAPE_price: 39.4022 - RMSE_price: 0.0162\n",
            "Epoch 43/100\n",
            "57/57 [==============================] - 0s 6ms/step - loss: 3.1809e-04 - MAE_price: 0.0085 - MAPE_price: 60.0880 - RMSE_price: 0.0160\n",
            "Epoch 44/100\n",
            "57/57 [==============================] - 0s 5ms/step - loss: 3.1993e-04 - MAE_price: 0.0082 - MAPE_price: 45.0123 - RMSE_price: 0.0159\n",
            "Epoch 45/100\n",
            "57/57 [==============================] - 0s 6ms/step - loss: 3.1830e-04 - MAE_price: 0.0080 - MAPE_price: 33.6140 - RMSE_price: 0.0160\n",
            "Epoch 46/100\n",
            "57/57 [==============================] - 0s 6ms/step - loss: 3.2788e-04 - MAE_price: 0.0086 - MAPE_price: 45.6297 - RMSE_price: 0.0160\n",
            "Epoch 47/100\n",
            "57/57 [==============================] - 0s 5ms/step - loss: 3.1906e-04 - MAE_price: 0.0078 - MAPE_price: 30.2112 - RMSE_price: 0.0157\n",
            "Epoch 48/100\n",
            "57/57 [==============================] - 0s 6ms/step - loss: 3.0726e-04 - MAE_price: 0.0079 - MAPE_price: 41.0371 - RMSE_price: 0.0156\n",
            "Epoch 49/100\n",
            "57/57 [==============================] - 0s 6ms/step - loss: 3.2965e-04 - MAE_price: 0.0087 - MAPE_price: 44.4052 - RMSE_price: 0.0166\n",
            "Epoch 50/100\n",
            "57/57 [==============================] - 0s 6ms/step - loss: 3.3008e-04 - MAE_price: 0.0090 - MAPE_price: 56.9425 - RMSE_price: 0.0166\n",
            "Epoch 51/100\n",
            "57/57 [==============================] - 0s 5ms/step - loss: 3.3032e-04 - MAE_price: 0.0085 - MAPE_price: 42.0309 - RMSE_price: 0.0162\n",
            "Epoch 52/100\n",
            "57/57 [==============================] - 0s 6ms/step - loss: 3.0601e-04 - MAE_price: 0.0079 - MAPE_price: 38.4438 - RMSE_price: 0.0156\n",
            "Epoch 53/100\n",
            "57/57 [==============================] - 0s 5ms/step - loss: 3.2666e-04 - MAE_price: 0.0085 - MAPE_price: 46.5311 - RMSE_price: 0.0163\n",
            "Epoch 54/100\n",
            "57/57 [==============================] - 0s 6ms/step - loss: 2.9331e-04 - MAE_price: 0.0080 - MAPE_price: 39.0500 - RMSE_price: 0.0153\n",
            "Epoch 55/100\n",
            "57/57 [==============================] - 0s 6ms/step - loss: 2.9774e-04 - MAE_price: 0.0080 - MAPE_price: 44.5158 - RMSE_price: 0.0153\n",
            "Epoch 56/100\n",
            "57/57 [==============================] - 0s 5ms/step - loss: 3.1642e-04 - MAE_price: 0.0081 - MAPE_price: 51.8457 - RMSE_price: 0.0158\n",
            "Epoch 57/100\n",
            "57/57 [==============================] - 0s 6ms/step - loss: 3.1064e-04 - MAE_price: 0.0081 - MAPE_price: 43.4934 - RMSE_price: 0.0159\n",
            "Epoch 58/100\n",
            "57/57 [==============================] - 0s 6ms/step - loss: 2.9753e-04 - MAE_price: 0.0078 - MAPE_price: 36.8582 - RMSE_price: 0.0156\n",
            "Epoch 59/100\n",
            "57/57 [==============================] - 0s 6ms/step - loss: 3.0144e-04 - MAE_price: 0.0075 - MAPE_price: 32.6563 - RMSE_price: 0.0152\n",
            "Epoch 60/100\n",
            "57/57 [==============================] - 0s 7ms/step - loss: 2.9814e-04 - MAE_price: 0.0079 - MAPE_price: 39.2305 - RMSE_price: 0.0152\n",
            "Epoch 61/100\n",
            "57/57 [==============================] - 0s 7ms/step - loss: 3.0486e-04 - MAE_price: 0.0080 - MAPE_price: 37.7373 - RMSE_price: 0.0159\n",
            "Epoch 62/100\n",
            "57/57 [==============================] - 0s 7ms/step - loss: 2.9536e-04 - MAE_price: 0.0077 - MAPE_price: 43.3237 - RMSE_price: 0.0151\n",
            "Epoch 63/100\n",
            "57/57 [==============================] - 0s 7ms/step - loss: 3.3708e-04 - MAE_price: 0.0084 - MAPE_price: 41.9507 - RMSE_price: 0.0163\n",
            "Epoch 64/100\n",
            "57/57 [==============================] - 0s 7ms/step - loss: 3.0847e-04 - MAE_price: 0.0076 - MAPE_price: 26.6828 - RMSE_price: 0.0153\n",
            "Epoch 65/100\n",
            "57/57 [==============================] - 0s 7ms/step - loss: 3.1643e-04 - MAE_price: 0.0088 - MAPE_price: 45.8587 - RMSE_price: 0.0161\n",
            "Epoch 66/100\n",
            "57/57 [==============================] - 0s 7ms/step - loss: 2.8970e-04 - MAE_price: 0.0074 - MAPE_price: 29.5477 - RMSE_price: 0.0151\n",
            "Epoch 67/100\n",
            "57/57 [==============================] - 0s 7ms/step - loss: 3.0947e-04 - MAE_price: 0.0080 - MAPE_price: 44.9343 - RMSE_price: 0.0156\n",
            "Epoch 68/100\n",
            "57/57 [==============================] - 0s 7ms/step - loss: 3.0417e-04 - MAE_price: 0.0083 - MAPE_price: 43.8857 - RMSE_price: 0.0159\n",
            "Epoch 69/100\n",
            "57/57 [==============================] - 0s 5ms/step - loss: 2.9864e-04 - MAE_price: 0.0076 - MAPE_price: 46.3636 - RMSE_price: 0.0155\n",
            "Epoch 70/100\n",
            "57/57 [==============================] - 0s 6ms/step - loss: 3.0175e-04 - MAE_price: 0.0081 - MAPE_price: 33.4921 - RMSE_price: 0.0157\n",
            "Epoch 71/100\n",
            "57/57 [==============================] - 0s 7ms/step - loss: 3.1149e-04 - MAE_price: 0.0084 - MAPE_price: 44.0923 - RMSE_price: 0.0161\n",
            "Epoch 72/100\n",
            "57/57 [==============================] - 1s 9ms/step - loss: 2.9592e-04 - MAE_price: 0.0075 - MAPE_price: 33.6320 - RMSE_price: 0.0153\n",
            "Epoch 73/100\n",
            "57/57 [==============================] - 1s 10ms/step - loss: 2.9111e-04 - MAE_price: 0.0076 - MAPE_price: 30.1095 - RMSE_price: 0.0154\n",
            "Epoch 74/100\n",
            "57/57 [==============================] - 0s 7ms/step - loss: 3.4794e-04 - MAE_price: 0.0092 - MAPE_price: 48.1206 - RMSE_price: 0.0167\n",
            "Epoch 75/100\n",
            "57/57 [==============================] - 0s 6ms/step - loss: 2.7537e-04 - MAE_price: 0.0075 - MAPE_price: 44.7210 - RMSE_price: 0.0148\n",
            "Epoch 76/100\n",
            "57/57 [==============================] - 0s 6ms/step - loss: 2.9471e-04 - MAE_price: 0.0075 - MAPE_price: 33.4323 - RMSE_price: 0.0155\n",
            "Epoch 77/100\n",
            "57/57 [==============================] - 0s 6ms/step - loss: 2.9864e-04 - MAE_price: 0.0077 - MAPE_price: 40.5106 - RMSE_price: 0.0154\n",
            "Epoch 78/100\n",
            "57/57 [==============================] - 0s 6ms/step - loss: 2.8965e-04 - MAE_price: 0.0073 - MAPE_price: 28.1888 - RMSE_price: 0.0149\n",
            "Epoch 79/100\n",
            "57/57 [==============================] - 0s 5ms/step - loss: 2.9279e-04 - MAE_price: 0.0075 - MAPE_price: 38.6803 - RMSE_price: 0.0154\n",
            "Epoch 80/100\n",
            "57/57 [==============================] - 0s 6ms/step - loss: 2.8511e-04 - MAE_price: 0.0075 - MAPE_price: 40.8171 - RMSE_price: 0.0151\n",
            "Epoch 81/100\n",
            "57/57 [==============================] - 0s 6ms/step - loss: 2.8579e-04 - MAE_price: 0.0074 - MAPE_price: 29.6887 - RMSE_price: 0.0149\n",
            "Epoch 82/100\n",
            "57/57 [==============================] - 0s 6ms/step - loss: 3.0467e-04 - MAE_price: 0.0082 - MAPE_price: 50.7585 - RMSE_price: 0.0158\n",
            "Epoch 83/100\n",
            "57/57 [==============================] - 0s 5ms/step - loss: 3.2753e-04 - MAE_price: 0.0088 - MAPE_price: 44.6301 - RMSE_price: 0.0163\n",
            "Epoch 84/100\n",
            "57/57 [==============================] - 0s 5ms/step - loss: 3.2574e-04 - MAE_price: 0.0091 - MAPE_price: 56.7701 - RMSE_price: 0.0164\n",
            "Epoch 85/100\n",
            "57/57 [==============================] - 0s 6ms/step - loss: 3.0780e-04 - MAE_price: 0.0078 - MAPE_price: 32.3914 - RMSE_price: 0.0158\n",
            "Epoch 86/100\n",
            "57/57 [==============================] - 0s 6ms/step - loss: 3.2138e-04 - MAE_price: 0.0086 - MAPE_price: 38.2347 - RMSE_price: 0.0163\n",
            "Epoch 87/100\n",
            "57/57 [==============================] - 0s 5ms/step - loss: 3.1398e-04 - MAE_price: 0.0085 - MAPE_price: 53.1966 - RMSE_price: 0.0159\n",
            "Epoch 88/100\n",
            "57/57 [==============================] - 0s 6ms/step - loss: 3.0169e-04 - MAE_price: 0.0082 - MAPE_price: 42.4444 - RMSE_price: 0.0156\n",
            "Epoch 89/100\n",
            "57/57 [==============================] - 0s 5ms/step - loss: 2.8701e-04 - MAE_price: 0.0073 - MAPE_price: 28.7986 - RMSE_price: 0.0151\n",
            "Epoch 90/100\n",
            "57/57 [==============================] - 0s 5ms/step - loss: 3.0146e-04 - MAE_price: 0.0083 - MAPE_price: 54.1119 - RMSE_price: 0.0157\n",
            "Epoch 91/100\n",
            "57/57 [==============================] - 0s 6ms/step - loss: 3.0206e-04 - MAE_price: 0.0077 - MAPE_price: 33.1845 - RMSE_price: 0.0156\n",
            "Epoch 92/100\n",
            "57/57 [==============================] - 0s 6ms/step - loss: 2.8727e-04 - MAE_price: 0.0079 - MAPE_price: 37.2334 - RMSE_price: 0.0151\n",
            "Epoch 93/100\n",
            "57/57 [==============================] - 0s 5ms/step - loss: 2.8899e-04 - MAE_price: 0.0075 - MAPE_price: 27.7924 - RMSE_price: 0.0152\n",
            "Epoch 94/100\n",
            "57/57 [==============================] - 0s 6ms/step - loss: 2.9383e-04 - MAE_price: 0.0077 - MAPE_price: 38.7696 - RMSE_price: 0.0153\n",
            "Epoch 95/100\n",
            "57/57 [==============================] - 0s 5ms/step - loss: 2.9043e-04 - MAE_price: 0.0077 - MAPE_price: 38.4996 - RMSE_price: 0.0152\n",
            "Epoch 96/100\n",
            "57/57 [==============================] - 0s 5ms/step - loss: 2.9382e-04 - MAE_price: 0.0076 - MAPE_price: 38.4291 - RMSE_price: 0.0153\n",
            "Epoch 97/100\n",
            "57/57 [==============================] - 0s 7ms/step - loss: 2.9382e-04 - MAE_price: 0.0078 - MAPE_price: 33.0150 - RMSE_price: 0.0154\n",
            "Epoch 98/100\n",
            "57/57 [==============================] - 0s 7ms/step - loss: 2.9759e-04 - MAE_price: 0.0085 - MAPE_price: 59.0754 - RMSE_price: 0.0155\n",
            "Epoch 99/100\n",
            "57/57 [==============================] - 0s 8ms/step - loss: 2.8785e-04 - MAE_price: 0.0073 - MAPE_price: 32.2836 - RMSE_price: 0.0153\n",
            "Epoch 100/100\n",
            "57/57 [==============================] - 0s 7ms/step - loss: 2.9919e-04 - MAE_price: 0.0082 - MAPE_price: 40.4925 - RMSE_price: 0.0155\n"
          ]
        }
      ]
    },
    {
      "cell_type": "code",
      "source": [
        "import matplotlib.pyplot as plt\n",
        "MSE = litecoin_lstm_hist.history['loss']\n",
        "MAE = litecoin_lstm_hist.history['MAE_price']\n",
        "plt.plot(MSE, label='Training MSE(loss)')\n",
        "plt.xlabel('Epoch')\n",
        "plt.ylabel('MSE')\n",
        "plt.ylim((0,0.001))\n",
        "plt.legend()\n",
        "plt.show()"
      ],
      "metadata": {
        "colab": {
          "base_uri": "https://localhost:8080/",
          "height": 455
        },
        "id": "w6IfWMMfVdHS",
        "outputId": "09c10a3d-7427-4a34-f07c-ae566a8b0534"
      },
      "execution_count": null,
      "outputs": [
        {
          "output_type": "display_data",
          "data": {
            "text/plain": [
              "<Figure size 640x480 with 1 Axes>"
            ],
            "image/png": "[encoded data removed]"
          },
          "metadata": {}
        }
      ]
    },
    {
      "cell_type": "code",
      "source": [
        "plt.plot(MAE, label='Training MAE')\n",
        "plt.xlabel('Epoch')\n",
        "plt.ylabel('MAE')\n",
        "plt.ylim((0,0.015))\n",
        "plt.legend()\n",
        "plt.show()"
      ],
      "metadata": {
        "colab": {
          "base_uri": "https://localhost:8080/",
          "height": 449
        },
        "id": "hUvai2eCXOXl",
        "outputId": "9f25c9f9-9c1c-4372-d4cc-a8b4e85299fe"
      },
      "execution_count": null,
      "outputs": [
        {
          "output_type": "display_data",
          "data": {
            "text/plain": [
              "<Figure size 640x480 with 1 Axes>"
            ],
            "image/png": "[encoded data removed]"
          },
          "metadata": {}
        }
      ]
    },
    {
      "cell_type": "code",
      "source": [
        "#one day window(predict 23 of February 2020)\n",
        "litecoin_pred=predict_next_days_LSTM('drive/MyDrive/litecoin_lstm.hdf5',litecoin_test[6:36],window_length=1)\n",
        "litecoin_pred=np.squeeze(np.array(litecoin_pred))\n",
        "price_pred=litecoin_pred[0]\n",
        "real_price=litecoin_test.Price.iloc[-1]\n",
        "#print(f'real_price={real_price},predicted_price={price_pred}')\n",
        "pred_df = litecoin_scaler.inverse_transform(litecoin_pred.reshape(1,-1))\n",
        "# Extract only the first column as it contains the inverse transformed values for price predictions.\n",
        "prediction = np.array(pred_df[:, 0])\n",
        "target_df=litecoin_scaler.inverse_transform(litecoin_test[-1:])\n",
        "target=np.array(target_df[:,0])"
      ],
      "metadata": {
        "colab": {
          "base_uri": "https://localhost:8080/"
        },
        "id": "iWgOLuLOXh-J",
        "outputId": "129e3cc6-ad6f-4329-b2ea-6af27f8dc0a6"
      },
      "execution_count": null,
      "outputs": [
        {
          "output_type": "stream",
          "name": "stdout",
          "text": [
            "1/1 [==============================] - 0s 48ms/step\n"
          ]
        }
      ]
    },
    {
      "cell_type": "code",
      "source": [
        "lstm_litecoin_MSE=tf.metrics.MeanSquaredError()(target,prediction)\n",
        "lstm_litecoin_MAE=tf.metrics.MeanAbsoluteError()(target,prediction)\n",
        "lstm_litecoin_RMSE=tf.metrics.RootMeanSquaredError()(target,prediction)\n",
        "lstm_litecoin_MAPE=tf.metrics.MeanAbsolutePercentageError()(target,prediction)\n",
        "print(f'for one day window(litecoin):MSE={lstm_litecoin_MSE},MAE={lstm_litecoin_MAE},MAPE={lstm_litecoin_MAPE},RMSE={lstm_litecoin_RMSE}')"
      ],
      "metadata": {
        "colab": {
          "base_uri": "https://localhost:8080/"
        },
        "outputId": "cfb50e11-032f-4d81-92bf-8e304b83d75b",
        "id": "_CgEgxxWYjBg"
      },
      "execution_count": null,
      "outputs": [
        {
          "output_type": "stream",
          "name": "stdout",
          "text": [
            "for one day window(litecoin):MSE=29.24445343017578,MAE=5.407814025878906,MAPE=6.784701347351074,RMSE=5.407814025878906\n"
          ]
        }
      ]
    },
    {
      "cell_type": "code",
      "source": [
        "#three day window(predict from21 to 23February)\n",
        "litecoin_pred=predict_next_days_LSTM('drive/MyDrive/litecoin_lstm.hdf5',litecoin_test[4:34],window_length=3)\n",
        "litecoin_pred=np.squeeze(np.array(litecoin_pred))\n",
        "pred_df=litecoin_scaler.inverse_transform(litecoin_pred)\n",
        "prediction = np.array(pred_df[:, 0])\n",
        "target_df=litecoin_scaler.inverse_transform(litecoin_test[-3:])\n",
        "target=np.array(target_df[:,0])"
      ],
      "metadata": {
        "colab": {
          "base_uri": "https://localhost:8080/"
        },
        "id": "hZS18O9nYC3n",
        "outputId": "707f7956-3f0c-44dd-f51e-276cd859a3bf"
      },
      "execution_count": null,
      "outputs": [
        {
          "output_type": "stream",
          "name": "stdout",
          "text": [
            "1/1 [==============================] - 0s 20ms/step\n",
            "1/1 [==============================] - 0s 19ms/step\n",
            "1/1 [==============================] - 0s 19ms/step\n"
          ]
        }
      ]
    },
    {
      "cell_type": "code",
      "source": [
        "lstm_litecoin_MSE=tf.metrics.MeanSquaredError()(target,prediction)\n",
        "lstm_litecoin_MAE=tf.metrics.MeanAbsoluteError()(target,prediction)\n",
        "lstm_litecoin_RMSE=tf.metrics.RootMeanSquaredError()(target,prediction)\n",
        "lstm_litecoin_MAPE=tf.metrics.MeanAbsolutePercentageError()(target,prediction)\n",
        "print(f'for three day window(litecoin):MSE={lstm_litecoin_MSE},MAE={lstm_litecoin_MAE},MAPE={lstm_litecoin_MAPE},RMSE={lstm_litecoin_RMSE}')"
      ],
      "metadata": {
        "colab": {
          "base_uri": "https://localhost:8080/"
        },
        "id": "4_TCAuOIZVbK",
        "outputId": "11f93e92-9db6-48fa-e334-4d65c97e8eca"
      },
      "execution_count": null,
      "outputs": [
        {
          "output_type": "stream",
          "name": "stdout",
          "text": [
            "for three day window(litecoin):MSE=240.53062438964844,MAE=13.629310607910156,MAPE=17.64239501953125,RMSE=15.509049415588379\n"
          ]
        }
      ]
    },
    {
      "cell_type": "code",
      "source": [
        "#seven day window(predict from21 to 23February)\n",
        "litecoin_pred=predict_next_days_LSTM('drive/MyDrive/litecoin_lstm.hdf5',litecoin_test[0:30],window_length=7)\n",
        "litecoin_pred=np.squeeze(np.array(litecoin_pred))\n",
        "pred_df=litecoin_scaler.inverse_transform(litecoin_pred)\n",
        "prediction = np.array(pred_df[:, 0])\n",
        "target_df=litecoin_scaler.inverse_transform(litecoin_test[-7:])\n",
        "target=np.array(target_df[:,0])"
      ],
      "metadata": {
        "colab": {
          "base_uri": "https://localhost:8080/"
        },
        "id": "U3AspdCJZYjh",
        "outputId": "d251d76d-a59a-4a2b-a83e-6f2d475f45f1"
      },
      "execution_count": null,
      "outputs": [
        {
          "output_type": "stream",
          "name": "stdout",
          "text": [
            "1/1 [==============================] - 0s 22ms/step\n",
            "1/1 [==============================] - 0s 19ms/step\n",
            "1/1 [==============================] - 0s 19ms/step\n",
            "1/1 [==============================] - 0s 21ms/step\n",
            "1/1 [==============================] - 0s 29ms/step\n",
            "1/1 [==============================] - 0s 28ms/step\n",
            "1/1 [==============================] - 0s 36ms/step\n"
          ]
        }
      ]
    },
    {
      "cell_type": "code",
      "source": [
        "lstm_litecoin_MSE=tf.metrics.MeanSquaredError()(target,prediction)\n",
        "lstm_litecoin_MAE=tf.metrics.MeanAbsoluteError()(target,prediction)\n",
        "lstm_litecoin_RMSE=tf.metrics.RootMeanSquaredError()(target,prediction)\n",
        "lstm_litecoin_MAPE=tf.metrics.MeanAbsolutePercentageError()(target,prediction)\n",
        "print(f'for seven day window(litecoin):MSE={lstm_litecoin_MSE},MAE={lstm_litecoin_MAE},MAPE={lstm_litecoin_MAPE},RMSE={lstm_litecoin_RMSE}')"
      ],
      "metadata": {
        "colab": {
          "base_uri": "https://localhost:8080/"
        },
        "outputId": "634bc112-4bca-4b7f-831f-6df270322700",
        "id": "0PjTRrAqZyFX"
      },
      "execution_count": null,
      "outputs": [
        {
          "output_type": "stream",
          "name": "stdout",
          "text": [
            "for seven day window(litecoin):MSE=284.1758728027344,MAE=15.028607368469238,MAPE=20.090362548828125,RMSE=16.85751724243164\n"
          ]
        }
      ]
    }
  ]
}