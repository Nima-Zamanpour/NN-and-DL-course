{
 "cells": [
  {
   "cell_type": "code",
   "execution_count": 1,
   "metadata": {},
   "outputs": [],
   "source": [
    "class Node():\n",
    "    def __init__(self, weights, input = None, thershold = 1,terminal = False,prev = []):\n",
    "        self.prev = prev\n",
    "        self.weights = weights\n",
    "        self.thershold = thershold\n",
    "        self.terminal = terminal\n",
    "        self.input = input\n",
    "    def get_output(self):\n",
    "        if self.terminal:\n",
    "\n",
    "            return self.input\n",
    "        \n",
    "        sum = 0\n",
    "        for i  in range(len(self.prev)):\n",
    "            sum += self.prev[i].get_output()*self.weights[i]\n",
    "\n",
    "        if sum>=self.thershold:\n",
    "            return 1\n",
    "        else:\n",
    "            return 0"
   ]
  },
  {
   "cell_type": "code",
   "execution_count": 2,
   "metadata": {},
   "outputs": [],
   "source": [
    "def DFA(ps1_in, ps0_in, input_in):\n",
    "    ps0 =Node(weights=[],input = ps0_in, terminal=True, prev = [])\n",
    "    ps1 =Node(weights=[],input = ps1_in, terminal=True, prev = [])\n",
    "    input =Node(weights=[],input = input_in, terminal=True, prev = [])\n",
    "    z1 =Node(weights=[1,-0.5], prev = [ps1, input])\n",
    "    z2 =Node(weights=[-0.5,1], prev = [input, ps0])\n",
    "    z3 =Node(weights=[0.5,0.5], prev = [ps0, ps1])\n",
    "    ns0 =Node(weights=[1,1], prev = [input, ps1])\n",
    "    ns1 =Node(weights=[1,1,1], prev = [z1,z2,z3])\n",
    "    acc =Node(weights=[1,1], prev = [z1,z3])\n",
    "\n",
    "    return acc.get_output(), ns1.get_output(), ns0.get_output()"
   ]
  },
  {
   "cell_type": "code",
   "execution_count": 3,
   "metadata": {},
   "outputs": [
    {
     "name": "stdout",
     "output_type": "stream",
     "text": [
      "For Present state 0 and input 0:\n",
      "next state is 0 and accept signal is 0\n",
      "\n",
      "For Present state 0 and input 1:\n",
      "next state is 1 and accept signal is 0\n",
      "\n",
      "For Present state 1 and input 0:\n",
      "next state is 2 and accept signal is 0\n",
      "\n",
      "For Present state 1 and input 1:\n",
      "next state is 1 and accept signal is 0\n",
      "\n",
      "For Present state 2 and input 0:\n",
      "next state is 3 and accept signal is 1\n",
      "\n",
      "For Present state 2 and input 1:\n",
      "next state is 1 and accept signal is 0\n",
      "\n",
      "For Present state 3 and input 0:\n",
      "next state is 3 and accept signal is 1\n",
      "\n",
      "For Present state 3 and input 1:\n",
      "next state is 3 and accept signal is 1\n",
      "\n"
     ]
    }
   ],
   "source": [
    "for i in range(8,16):\n",
    "    ps1_in, ps0_in, input_in = map(int, bin(i)[3:])\n",
    "    print(f'For Present state {ps1_in*2+ps0_in} and input {input_in}:')\n",
    "    acc, ns1, ns0 = DFA(ps1_in, ps0_in, input_in)\n",
    "    print(f\"next state is {ns1*2+ns0} and accept signal is {acc}\\n\")"
   ]
  }
 ],
 "metadata": {
  "kernelspec": {
   "display_name": "base",
   "language": "python",
   "name": "python3"
  },
  "language_info": {
   "codemirror_mode": {
    "name": "ipython",
    "version": 3
   },
   "file_extension": ".py",
   "mimetype": "text/x-python",
   "name": "python",
   "nbconvert_exporter": "python",
   "pygments_lexer": "ipython3",
   "version": "3.9.13"
  },
  "orig_nbformat": 4
 },
 "nbformat": 4,
 "nbformat_minor": 2
}
