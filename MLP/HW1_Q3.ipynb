{
  "nbformat": 4,
  "nbformat_minor": 0,
  "metadata": {
    "colab": {
      "provenance": [],
      "collapsed_sections": [
        "cHI9vwMPnBZa",
        "Vy-EKeEBEB2W"
      ]
    },
    "kernelspec": {
      "name": "python3",
      "display_name": "Python 3"
    },
    "language_info": {
      "name": "python"
    },
    "accelerator": "GPU",
    "gpuClass": "standard"
  },
  "cells": [
    {
      "cell_type": "markdown",
      "source": [
        "#3-1.Preprocessing"
      ],
      "metadata": {
        "id": "J7kciIAJ4FWM"
      }
    },
    {
      "cell_type": "code",
      "execution_count": 59,
      "metadata": {
        "id": "jo-thPMZ34nm"
      },
      "outputs": [],
      "source": [
        "from keras.datasets import mnist\n",
        "import numpy as np\n",
        "import matplotlib.pyplot as plt"
      ]
    },
    {
      "cell_type": "code",
      "source": [
        "(train_images,train_labels),(test_images,test_labels)=mnist.load_data()\n",
        "train_labels.shape"
      ],
      "metadata": {
        "id": "67Z3OcL24X4P",
        "colab": {
          "base_uri": "https://localhost:8080/"
        },
        "outputId": "ea183a78-166a-42fa-9a5f-2f3e6526a612"
      },
      "execution_count": 60,
      "outputs": [
        {
          "output_type": "execute_result",
          "data": {
            "text/plain": [
              "(60000,)"
            ]
          },
          "metadata": {},
          "execution_count": 60
        }
      ]
    },
    {
      "cell_type": "code",
      "source": [
        "count=np.zeros(10)\n",
        "for k in range(len(train_labels)):\n",
        "  count[train_labels[k]]+=1\n",
        "plt.bar(range(10),count);\n",
        "plt.xticks(range(10));\n",
        "plt.xlabel('number')\n",
        "plt.ylabel('count');"
      ],
      "metadata": {
        "colab": {
          "base_uri": "https://localhost:8080/",
          "height": 281
        },
        "id": "uPgZkMYC5o81",
        "outputId": "5021623d-2f4c-46e2-e38c-164cbac7df6f"
      },
      "execution_count": 61,
      "outputs": [
        {
          "output_type": "display_data",
          "data": {
            "text/plain": [
              "<Figure size 432x288 with 1 Axes>"
            ],
            "image/png": "[encoded data removed]"
          },
          "metadata": {
            "needs_background": "light"
          }
        }
      ]
    },
    {
      "cell_type": "code",
      "source": [
        "import random\n",
        "train_num=train_images.shape[0]\n",
        "fig,ax=plt.subplots(1,5)\n",
        "for i in range(5):\n",
        "  rand = random.randrange(train_num)\n",
        "  ax[i].imshow(train_images[rand,:,:],cmap='gray')\n",
        "  ax[i].title.set_text(str(train_labels[rand]))\n",
        "  ax[i].axis('off')"
      ],
      "metadata": {
        "colab": {
          "base_uri": "https://localhost:8080/",
          "height": 105
        },
        "id": "bS5fT5Yo-wOh",
        "outputId": "78b3c426-09ce-4d97-f279-47f5c16215d4"
      },
      "execution_count": 62,
      "outputs": [
        {
          "output_type": "display_data",
          "data": {
            "text/plain": [
              "<Figure size 432x288 with 5 Axes>"
            ],
            "image/png": "[encoded data removed]"
          },
          "metadata": {
            "needs_background": "light"
          }
        }
      ]
    },
    {
      "cell_type": "code",
      "source": [
        "#normalization\n",
        "from keras.layers import Flatten\n",
        "train_images=train_images.astype('float32')/255\n",
        "test_images=test_images.astype('float32')/255\n",
        "x_train = train_images.reshape((len(train_images), np.prod(train_images.shape[1:])))\n",
        "x_test =test_images.reshape((len(test_images), np.prod(test_images.shape[1:])))"
      ],
      "metadata": {
        "id": "5W6J-fI7Aymu"
      },
      "execution_count": 63,
      "outputs": []
    },
    {
      "cell_type": "markdown",
      "source": [
        "#3-2.Autoencoder"
      ],
      "metadata": {
        "id": "cHI9vwMPnBZa"
      }
    },
    {
      "cell_type": "code",
      "source": [
        "#structure\n",
        "from keras.models import Sequential\n",
        "from keras.layers import Flatten,Dense,Input\n",
        "encoder=Sequential()\n",
        "encoder.add(Dense(500,activation='relu',input_shape=(784,)))\n",
        "encoder.add(Dense(300,activation='relu'))\n",
        "encoder.add(Dense(100,activation='relu'))\n",
        "encoder.add(Dense(30,activation='relu'))\n",
        "encoder.summary()"
      ],
      "metadata": {
        "colab": {
          "base_uri": "https://localhost:8080/"
        },
        "id": "z16c5itbMNce",
        "outputId": "723fd47e-5460-497b-f6e8-3bf2a541300b"
      },
      "execution_count": 64,
      "outputs": [
        {
          "output_type": "stream",
          "name": "stdout",
          "text": [
            "Model: \"sequential_3\"\n",
            "_________________________________________________________________\n",
            " Layer (type)                Output Shape              Param #   \n",
            "=================================================================\n",
            " dense_11 (Dense)            (None, 500)               392500    \n",
            "                                                                 \n",
            " dense_12 (Dense)            (None, 300)               150300    \n",
            "                                                                 \n",
            " dense_13 (Dense)            (None, 100)               30100     \n",
            "                                                                 \n",
            " dense_14 (Dense)            (None, 30)                3030      \n",
            "                                                                 \n",
            "=================================================================\n",
            "Total params: 575,930\n",
            "Trainable params: 575,930\n",
            "Non-trainable params: 0\n",
            "_________________________________________________________________\n"
          ]
        }
      ]
    },
    {
      "cell_type": "code",
      "source": [
        "decoder=Sequential()\n",
        "decoder.add(Dense(100,input_shape=(30,)))\n",
        "decoder.add(Dense(300,activation='relu'))\n",
        "decoder.add(Dense(500,activation='relu'))\n",
        "decoder.add(Dense(784,activation='relu'))\n",
        "decoder.summary()"
      ],
      "metadata": {
        "colab": {
          "base_uri": "https://localhost:8080/"
        },
        "id": "geTGbb3yVOW2",
        "outputId": "0e87e209-dec3-45f2-eca4-bc4cb1d4f602"
      },
      "execution_count": 65,
      "outputs": [
        {
          "output_type": "stream",
          "name": "stdout",
          "text": [
            "Model: \"sequential_4\"\n",
            "_________________________________________________________________\n",
            " Layer (type)                Output Shape              Param #   \n",
            "=================================================================\n",
            " dense_15 (Dense)            (None, 100)               3100      \n",
            "                                                                 \n",
            " dense_16 (Dense)            (None, 300)               30300     \n",
            "                                                                 \n",
            " dense_17 (Dense)            (None, 500)               150500    \n",
            "                                                                 \n",
            " dense_18 (Dense)            (None, 784)               392784    \n",
            "                                                                 \n",
            "=================================================================\n",
            "Total params: 576,684\n",
            "Trainable params: 576,684\n",
            "Non-trainable params: 0\n",
            "_________________________________________________________________\n"
          ]
        }
      ]
    },
    {
      "cell_type": "code",
      "source": [
        "import tensorflow as tf\n",
        "x = Input(shape = (784,))\n",
        "latent=encoder(x)\n",
        "output=decoder(latent)\n",
        "autoencoder=tf.keras.Model(inputs=x,outputs=output)"
      ],
      "metadata": {
        "id": "R0GbsQuEiZkF"
      },
      "execution_count": 66,
      "outputs": []
    },
    {
      "cell_type": "code",
      "source": [
        "autoencoder.compile(optimizer=tf.keras.optimizers.Adam(learning_rate=0.001)\n",
        ",loss=tf.keras.losses.MSE)"
      ],
      "metadata": {
        "id": "0MqhS2AZkFh7"
      },
      "execution_count": 67,
      "outputs": []
    },
    {
      "cell_type": "code",
      "source": [
        "(x_train,x_val)=x_train[:48000],x_train[48000:]\n",
        "(train_labels,val_labels)=train_labels[:48000],train_labels[48000:]\n",
        "callback=tf.keras.callbacks.EarlyStopping(\n",
        "    monitor=\"val_loss\",\n",
        "    patience=5,\n",
        "    mode=\"min\",\n",
        "    baseline=None,\n",
        "    restore_best_weights=True,\n",
        "    start_from_epoch=10,\n",
        ")\n",
        "hist=autoencoder.fit(x_train,x_train,batch_size=128,epochs=100 ,validation_data=(x_val,x_val),callbacks=[callback])"
      ],
      "metadata": {
        "colab": {
          "base_uri": "https://localhost:8080/"
        },
        "id": "fbFmEHSTlYvM",
        "outputId": "45d6d19d-7817-49a3-e760-6bc041c31f8c"
      },
      "execution_count": 68,
      "outputs": [
        {
          "output_type": "stream",
          "name": "stdout",
          "text": [
            "Epoch 1/100\n",
            "375/375 [==============================] - 8s 8ms/step - loss: 0.0294 - val_loss: 0.0178\n",
            "Epoch 2/100\n",
            "375/375 [==============================] - 3s 8ms/step - loss: 0.0156 - val_loss: 0.0140\n",
            "Epoch 3/100\n",
            "375/375 [==============================] - 3s 8ms/step - loss: 0.0132 - val_loss: 0.0126\n",
            "Epoch 4/100\n",
            "375/375 [==============================] - 3s 8ms/step - loss: 0.0121 - val_loss: 0.0120\n",
            "Epoch 5/100\n",
            "375/375 [==============================] - 3s 9ms/step - loss: 0.0114 - val_loss: 0.0114\n",
            "Epoch 6/100\n",
            "375/375 [==============================] - 3s 8ms/step - loss: 0.0110 - val_loss: 0.0109\n",
            "Epoch 7/100\n",
            "375/375 [==============================] - 2s 7ms/step - loss: 0.0106 - val_loss: 0.0108\n",
            "Epoch 8/100\n",
            "375/375 [==============================] - 3s 7ms/step - loss: 0.0103 - val_loss: 0.0106\n",
            "Epoch 9/100\n",
            "375/375 [==============================] - 3s 8ms/step - loss: 0.0100 - val_loss: 0.0102\n",
            "Epoch 10/100\n",
            "375/375 [==============================] - 3s 9ms/step - loss: 0.0098 - val_loss: 0.0101\n",
            "Epoch 11/100\n",
            "375/375 [==============================] - 3s 8ms/step - loss: 0.0096 - val_loss: 0.0099\n",
            "Epoch 12/100\n",
            "375/375 [==============================] - 3s 7ms/step - loss: 0.0093 - val_loss: 0.0099\n",
            "Epoch 13/100\n",
            "375/375 [==============================] - 3s 9ms/step - loss: 0.0092 - val_loss: 0.0097\n",
            "Epoch 14/100\n",
            "375/375 [==============================] - 3s 7ms/step - loss: 0.0091 - val_loss: 0.0097\n",
            "Epoch 15/100\n",
            "375/375 [==============================] - 3s 7ms/step - loss: 0.0090 - val_loss: 0.0095\n",
            "Epoch 16/100\n",
            "375/375 [==============================] - 3s 8ms/step - loss: 0.0089 - val_loss: 0.0094\n",
            "Epoch 17/100\n",
            "375/375 [==============================] - 3s 8ms/step - loss: 0.0088 - val_loss: 0.0093\n",
            "Epoch 18/100\n",
            "375/375 [==============================] - 4s 10ms/step - loss: 0.0086 - val_loss: 0.0093\n",
            "Epoch 19/100\n",
            "375/375 [==============================] - 3s 8ms/step - loss: 0.0086 - val_loss: 0.0093\n",
            "Epoch 20/100\n",
            "375/375 [==============================] - 2s 6ms/step - loss: 0.0085 - val_loss: 0.0090\n",
            "Epoch 21/100\n",
            "375/375 [==============================] - 2s 4ms/step - loss: 0.0085 - val_loss: 0.0091\n",
            "Epoch 22/100\n",
            "375/375 [==============================] - 2s 5ms/step - loss: 0.0084 - val_loss: 0.0091\n",
            "Epoch 23/100\n",
            "375/375 [==============================] - 2s 5ms/step - loss: 0.0083 - val_loss: 0.0091\n",
            "Epoch 24/100\n",
            "375/375 [==============================] - 2s 4ms/step - loss: 0.0083 - val_loss: 0.0090\n",
            "Epoch 25/100\n",
            "375/375 [==============================] - 2s 4ms/step - loss: 0.0082 - val_loss: 0.0091\n",
            "Epoch 26/100\n",
            "375/375 [==============================] - 2s 4ms/step - loss: 0.0082 - val_loss: 0.0089\n",
            "Epoch 27/100\n",
            "375/375 [==============================] - 2s 4ms/step - loss: 0.0081 - val_loss: 0.0088\n",
            "Epoch 28/100\n",
            "375/375 [==============================] - 2s 4ms/step - loss: 0.0080 - val_loss: 0.0089\n",
            "Epoch 29/100\n",
            "375/375 [==============================] - 2s 5ms/step - loss: 0.0080 - val_loss: 0.0087\n",
            "Epoch 30/100\n",
            "375/375 [==============================] - 2s 5ms/step - loss: 0.0079 - val_loss: 0.0088\n",
            "Epoch 31/100\n",
            "375/375 [==============================] - 2s 4ms/step - loss: 0.0079 - val_loss: 0.0087\n",
            "Epoch 32/100\n",
            "375/375 [==============================] - 2s 4ms/step - loss: 0.0078 - val_loss: 0.0086\n",
            "Epoch 33/100\n",
            "375/375 [==============================] - 2s 4ms/step - loss: 0.0078 - val_loss: 0.0087\n",
            "Epoch 34/100\n",
            "375/375 [==============================] - 2s 4ms/step - loss: 0.0078 - val_loss: 0.0086\n",
            "Epoch 35/100\n",
            "375/375 [==============================] - 2s 4ms/step - loss: 0.0078 - val_loss: 0.0088\n",
            "Epoch 36/100\n",
            "375/375 [==============================] - 2s 5ms/step - loss: 0.0077 - val_loss: 0.0088\n",
            "Epoch 37/100\n",
            "375/375 [==============================] - 2s 5ms/step - loss: 0.0077 - val_loss: 0.0086\n"
          ]
        }
      ]
    },
    {
      "cell_type": "code",
      "source": [
        "import matplotlib.pyplot as plt\n",
        "plt.plot(hist.history['loss'])\n",
        "plt.plot(hist.history['val_loss'])\n",
        "plt.legend(['loss','val_loss'])\n",
        "plt.xlabel('epochs')"
      ],
      "metadata": {
        "colab": {
          "base_uri": "https://localhost:8080/",
          "height": 296
        },
        "id": "vMgAZfUaCWFu",
        "outputId": "bed2ac68-bf70-4f8d-c278-81e900bcf273"
      },
      "execution_count": 69,
      "outputs": [
        {
          "output_type": "execute_result",
          "data": {
            "text/plain": [
              "Text(0.5, 0, 'epochs')"
            ]
          },
          "metadata": {},
          "execution_count": 69
        },
        {
          "output_type": "display_data",
          "data": {
            "text/plain": [
              "<Figure size 432x288 with 1 Axes>"
            ],
            "image/png": "[encoded data removed]"
          },
          "metadata": {
            "needs_background": "light"
          }
        }
      ]
    },
    {
      "cell_type": "markdown",
      "source": [
        "#3-3.Classification"
      ],
      "metadata": {
        "id": "Vy-EKeEBEB2W"
      }
    },
    {
      "cell_type": "code",
      "source": [
        "train_latent=encoder.predict(x_train)"
      ],
      "metadata": {
        "colab": {
          "base_uri": "https://localhost:8080/"
        },
        "id": "ldE3aS6gD-e7",
        "outputId": "2df73c13-1fbe-4b3d-b4c9-cd487cf9f8c4"
      },
      "execution_count": 70,
      "outputs": [
        {
          "output_type": "stream",
          "name": "stdout",
          "text": [
            "1500/1500 [==============================] - 2s 1ms/step\n"
          ]
        }
      ]
    },
    {
      "cell_type": "code",
      "source": [
        "val_latent=encoder.predict(x_val)"
      ],
      "metadata": {
        "colab": {
          "base_uri": "https://localhost:8080/"
        },
        "id": "bZXAnemAHE8S",
        "outputId": "0a38348b-13d5-4f56-8753-58679e97db19"
      },
      "execution_count": 71,
      "outputs": [
        {
          "output_type": "stream",
          "name": "stdout",
          "text": [
            "375/375 [==============================] - 1s 1ms/step\n"
          ]
        }
      ]
    },
    {
      "cell_type": "code",
      "source": [
        "test_latent=encoder.predict(x_test)"
      ],
      "metadata": {
        "colab": {
          "base_uri": "https://localhost:8080/"
        },
        "id": "yIs17WgKHG6J",
        "outputId": "d3285868-9fa7-454b-d6bc-ed9ae074368f"
      },
      "execution_count": 72,
      "outputs": [
        {
          "output_type": "stream",
          "name": "stdout",
          "text": [
            "313/313 [==============================] - 1s 1ms/step\n"
          ]
        }
      ]
    },
    {
      "cell_type": "code",
      "source": [
        "from keras.utils import to_categorical\n",
        "numclass=10;\n",
        "y_train=to_categorical(train_labels,numclass)\n",
        "y_test=to_categorical(test_labels,numclass)\n",
        "y_val=to_categorical(val_labels,numclass)"
      ],
      "metadata": {
        "id": "YVvHasbjI875"
      },
      "execution_count": 73,
      "outputs": []
    },
    {
      "cell_type": "code",
      "source": [
        "classifier=Sequential()\n",
        "classifier.add(Dense(20,input_shape=(30,),activation='relu'))\n",
        "classifier.add(Dense(15,activation='relu'))\n",
        "classifier.add(Dense(10,activation='softmax'))\n",
        "classifier.summary()"
      ],
      "metadata": {
        "colab": {
          "base_uri": "https://localhost:8080/"
        },
        "id": "dJ8ueShrILzd",
        "outputId": "8299138d-0eb9-463e-d7b1-117df1524293"
      },
      "execution_count": 74,
      "outputs": [
        {
          "output_type": "stream",
          "name": "stdout",
          "text": [
            "Model: \"sequential_5\"\n",
            "_________________________________________________________________\n",
            " Layer (type)                Output Shape              Param #   \n",
            "=================================================================\n",
            " dense_19 (Dense)            (None, 20)                620       \n",
            "                                                                 \n",
            " dense_20 (Dense)            (None, 15)                315       \n",
            "                                                                 \n",
            " dense_21 (Dense)            (None, 10)                160       \n",
            "                                                                 \n",
            "=================================================================\n",
            "Total params: 1,095\n",
            "Trainable params: 1,095\n",
            "Non-trainable params: 0\n",
            "_________________________________________________________________\n"
          ]
        }
      ]
    },
    {
      "cell_type": "code",
      "source": [
        "classifier.compile(optimizer=tf.keras.optimizers.Adam(learning_rate=0.001)\n",
        ",loss='categorical_crossentropy',metrics=['accuracy'])"
      ],
      "metadata": {
        "id": "-RS-0sQDLQai"
      },
      "execution_count": 75,
      "outputs": []
    },
    {
      "cell_type": "code",
      "source": [
        "callback2=tf.keras.callbacks.EarlyStopping(\n",
        "    monitor=\"val_accuracy\",\n",
        "    patience=5,\n",
        "    mode=\"max\",\n",
        "    baseline=None,\n",
        "    restore_best_weights=True,\n",
        "    start_from_epoch=10,\n",
        ")\n",
        "classHist=classifier.fit(train_latent,y_train,epochs=100 ,validation_data=(val_latent,y_val),callbacks=[callback2])"
      ],
      "metadata": {
        "colab": {
          "base_uri": "https://localhost:8080/"
        },
        "id": "bcxPyi79Vmbk",
        "outputId": "42829a23-3837-4eec-abe0-d253fd0189c5"
      },
      "execution_count": 76,
      "outputs": [
        {
          "output_type": "stream",
          "name": "stdout",
          "text": [
            "Epoch 1/100\n",
            "1500/1500 [==============================] - 7s 4ms/step - loss: 0.8882 - accuracy: 0.7321 - val_loss: 0.4127 - val_accuracy: 0.8838\n",
            "Epoch 2/100\n",
            "1500/1500 [==============================] - 6s 4ms/step - loss: 0.4113 - accuracy: 0.8757 - val_loss: 0.3561 - val_accuracy: 0.8959\n",
            "Epoch 3/100\n",
            "1500/1500 [==============================] - 5s 3ms/step - loss: 0.3639 - accuracy: 0.8894 - val_loss: 0.3152 - val_accuracy: 0.9078\n",
            "Epoch 4/100\n",
            "1500/1500 [==============================] - 5s 3ms/step - loss: 0.3370 - accuracy: 0.8980 - val_loss: 0.3026 - val_accuracy: 0.9128\n",
            "Epoch 5/100\n",
            "1500/1500 [==============================] - 5s 4ms/step - loss: 0.3176 - accuracy: 0.9040 - val_loss: 0.2796 - val_accuracy: 0.9174\n",
            "Epoch 6/100\n",
            "1500/1500 [==============================] - 5s 3ms/step - loss: 0.2997 - accuracy: 0.9094 - val_loss: 0.2694 - val_accuracy: 0.9196\n",
            "Epoch 7/100\n",
            "1500/1500 [==============================] - 6s 4ms/step - loss: 0.2882 - accuracy: 0.9128 - val_loss: 0.2724 - val_accuracy: 0.9185\n",
            "Epoch 8/100\n",
            "1500/1500 [==============================] - 5s 4ms/step - loss: 0.2800 - accuracy: 0.9140 - val_loss: 0.2530 - val_accuracy: 0.9268\n",
            "Epoch 9/100\n",
            "1500/1500 [==============================] - 5s 3ms/step - loss: 0.2724 - accuracy: 0.9171 - val_loss: 0.2475 - val_accuracy: 0.9273\n",
            "Epoch 10/100\n",
            "1500/1500 [==============================] - 6s 4ms/step - loss: 0.2664 - accuracy: 0.9179 - val_loss: 0.2509 - val_accuracy: 0.9255\n",
            "Epoch 11/100\n",
            "1500/1500 [==============================] - 5s 3ms/step - loss: 0.2609 - accuracy: 0.9201 - val_loss: 0.2351 - val_accuracy: 0.9317\n",
            "Epoch 12/100\n",
            "1500/1500 [==============================] - 6s 4ms/step - loss: 0.2551 - accuracy: 0.9225 - val_loss: 0.2246 - val_accuracy: 0.9352\n",
            "Epoch 13/100\n",
            "1500/1500 [==============================] - 5s 3ms/step - loss: 0.2501 - accuracy: 0.9248 - val_loss: 0.2333 - val_accuracy: 0.9323\n",
            "Epoch 14/100\n",
            "1500/1500 [==============================] - 5s 4ms/step - loss: 0.2469 - accuracy: 0.9245 - val_loss: 0.2250 - val_accuracy: 0.9330\n",
            "Epoch 15/100\n",
            "1500/1500 [==============================] - 5s 4ms/step - loss: 0.2419 - accuracy: 0.9271 - val_loss: 0.2172 - val_accuracy: 0.9377\n",
            "Epoch 16/100\n",
            "1500/1500 [==============================] - 5s 3ms/step - loss: 0.2378 - accuracy: 0.9285 - val_loss: 0.2181 - val_accuracy: 0.9370\n",
            "Epoch 17/100\n",
            "1500/1500 [==============================] - 6s 4ms/step - loss: 0.2342 - accuracy: 0.9290 - val_loss: 0.2239 - val_accuracy: 0.9348\n",
            "Epoch 18/100\n",
            "1500/1500 [==============================] - 6s 4ms/step - loss: 0.2308 - accuracy: 0.9296 - val_loss: 0.2211 - val_accuracy: 0.9352\n",
            "Epoch 19/100\n",
            "1500/1500 [==============================] - 6s 4ms/step - loss: 0.2277 - accuracy: 0.9316 - val_loss: 0.2185 - val_accuracy: 0.9362\n",
            "Epoch 20/100\n",
            "1500/1500 [==============================] - 5s 3ms/step - loss: 0.2239 - accuracy: 0.9324 - val_loss: 0.2023 - val_accuracy: 0.9412\n",
            "Epoch 21/100\n",
            "1500/1500 [==============================] - 5s 3ms/step - loss: 0.2210 - accuracy: 0.9327 - val_loss: 0.2001 - val_accuracy: 0.9414\n",
            "Epoch 22/100\n",
            "1500/1500 [==============================] - 5s 3ms/step - loss: 0.2161 - accuracy: 0.9356 - val_loss: 0.1956 - val_accuracy: 0.9436\n",
            "Epoch 23/100\n",
            "1500/1500 [==============================] - 5s 4ms/step - loss: 0.2131 - accuracy: 0.9364 - val_loss: 0.2000 - val_accuracy: 0.9416\n",
            "Epoch 24/100\n",
            "1500/1500 [==============================] - 6s 4ms/step - loss: 0.2099 - accuracy: 0.9374 - val_loss: 0.2041 - val_accuracy: 0.9406\n",
            "Epoch 25/100\n",
            "1500/1500 [==============================] - 5s 3ms/step - loss: 0.2085 - accuracy: 0.9380 - val_loss: 0.2023 - val_accuracy: 0.9401\n",
            "Epoch 26/100\n",
            "1500/1500 [==============================] - 5s 4ms/step - loss: 0.2047 - accuracy: 0.9385 - val_loss: 0.1885 - val_accuracy: 0.9470\n",
            "Epoch 27/100\n",
            "1500/1500 [==============================] - 5s 4ms/step - loss: 0.2026 - accuracy: 0.9392 - val_loss: 0.1882 - val_accuracy: 0.9447\n",
            "Epoch 28/100\n",
            "1500/1500 [==============================] - 6s 4ms/step - loss: 0.1993 - accuracy: 0.9403 - val_loss: 0.2067 - val_accuracy: 0.9394\n",
            "Epoch 29/100\n",
            "1500/1500 [==============================] - 5s 3ms/step - loss: 0.1975 - accuracy: 0.9404 - val_loss: 0.1952 - val_accuracy: 0.9423\n",
            "Epoch 30/100\n",
            "1500/1500 [==============================] - 5s 3ms/step - loss: 0.1952 - accuracy: 0.9421 - val_loss: 0.1875 - val_accuracy: 0.9433\n",
            "Epoch 31/100\n",
            "1500/1500 [==============================] - 5s 4ms/step - loss: 0.1930 - accuracy: 0.9423 - val_loss: 0.1900 - val_accuracy: 0.9437\n"
          ]
        }
      ]
    },
    {
      "cell_type": "code",
      "source": [
        "plt.plot(classHist.history['loss'])\n",
        "plt.plot(classHist.history['val_loss'])\n",
        "plt.legend(['loss','val_loss'])\n",
        "plt.xlabel('epochs')"
      ],
      "metadata": {
        "colab": {
          "base_uri": "https://localhost:8080/",
          "height": 296
        },
        "id": "obBy1Sk-dSce",
        "outputId": "b6f062d3-be29-4eeb-ed3e-e1ba423172b0"
      },
      "execution_count": 77,
      "outputs": [
        {
          "output_type": "execute_result",
          "data": {
            "text/plain": [
              "Text(0.5, 0, 'epochs')"
            ]
          },
          "metadata": {},
          "execution_count": 77
        },
        {
          "output_type": "display_data",
          "data": {
            "text/plain": [
              "<Figure size 432x288 with 1 Axes>"
            ],
            "image/png": "[encoded data removed]"
          },
          "metadata": {
            "needs_background": "light"
          }
        }
      ]
    },
    {
      "cell_type": "code",
      "source": [
        "plt.plot(classHist.history['accuracy'])\n",
        "plt.plot(classHist.history['val_accuracy'])\n",
        "plt.legend(['accuracy','val_accuracy'])\n",
        "plt.xlabel('epochs')"
      ],
      "metadata": {
        "colab": {
          "base_uri": "https://localhost:8080/",
          "height": 296
        },
        "id": "PTLv0nqSdseU",
        "outputId": "cc343fb7-85ee-4753-d3f7-a497863ffe42"
      },
      "execution_count": 78,
      "outputs": [
        {
          "output_type": "execute_result",
          "data": {
            "text/plain": [
              "Text(0.5, 0, 'epochs')"
            ]
          },
          "metadata": {},
          "execution_count": 78
        },
        {
          "output_type": "display_data",
          "data": {
            "text/plain": [
              "<Figure size 432x288 with 1 Axes>"
            ],
            "image/png": "[encoded data removed]"
          },
          "metadata": {
            "needs_background": "light"
          }
        }
      ]
    },
    {
      "cell_type": "code",
      "source": [
        "classifier.evaluate(test_latent,y_test)"
      ],
      "metadata": {
        "colab": {
          "base_uri": "https://localhost:8080/"
        },
        "id": "Qnxakj8Fd7LD",
        "outputId": "e1385ce8-6744-4e9d-862b-1813f3e425d1"
      },
      "execution_count": 79,
      "outputs": [
        {
          "output_type": "stream",
          "name": "stdout",
          "text": [
            "313/313 [==============================] - 1s 2ms/step - loss: 0.1866 - accuracy: 0.9468\n"
          ]
        },
        {
          "output_type": "execute_result",
          "data": {
            "text/plain": [
              "[0.18657900393009186, 0.9467999935150146]"
            ]
          },
          "metadata": {},
          "execution_count": 79
        }
      ]
    },
    {
      "cell_type": "code",
      "source": [
        "y_predict = classifier.predict(test_latent)"
      ],
      "metadata": {
        "colab": {
          "base_uri": "https://localhost:8080/"
        },
        "id": "nw_V-JH8Y16x",
        "outputId": "f976f0ab-52f9-4536-c065-fab58d795b72"
      },
      "execution_count": 80,
      "outputs": [
        {
          "output_type": "stream",
          "name": "stdout",
          "text": [
            "313/313 [==============================] - 1s 1ms/step\n"
          ]
        }
      ]
    },
    {
      "cell_type": "code",
      "source": [
        "from sklearn.metrics import confusion_matrix\n",
        "import seaborn as sns"
      ],
      "metadata": {
        "id": "4A8YauVkZjDf"
      },
      "execution_count": 81,
      "outputs": []
    },
    {
      "cell_type": "code",
      "source": [
        "y_predict.argmax(axis =1)"
      ],
      "metadata": {
        "colab": {
          "base_uri": "https://localhost:8080/"
        },
        "id": "RD45GnHVZ6Xt",
        "outputId": "58469ee2-b0c3-47e1-d86b-5897c8538b1b"
      },
      "execution_count": 82,
      "outputs": [
        {
          "output_type": "execute_result",
          "data": {
            "text/plain": [
              "array([7, 2, 1, ..., 4, 5, 6])"
            ]
          },
          "metadata": {},
          "execution_count": 82
        }
      ]
    },
    {
      "cell_type": "code",
      "source": [
        "model_cm = confusion_matrix(y_test.argmax(axis =1), y_predict.argmax(axis =1))\n",
        "plt.figure(figsize = (10,7))\n",
        "sns.heatmap(model_cm, annot=True)\n",
        "plt.ylabel('Actual Label')\n",
        "plt.xlabel('Predicted Label')\n",
        "plt.title('Model Confusion Matrix');"
      ],
      "metadata": {
        "colab": {
          "base_uri": "https://localhost:8080/",
          "height": 458
        },
        "id": "o3G0U0EMZack",
        "outputId": "d13c04a5-280e-4875-f6bd-e9243e4c762a"
      },
      "execution_count": 86,
      "outputs": [
        {
          "output_type": "display_data",
          "data": {
            "text/plain": [
              "<Figure size 720x504 with 2 Axes>"
            ],
            "image/png": "[encoded data removed]"
          },
          "metadata": {
            "needs_background": "light"
          }
        }
      ]
    }
  ]
}